{
 "cells": [
  {
   "cell_type": "code",
   "execution_count": null,
   "id": "b89abd48",
   "metadata": {
    "scrolled": true
   },
   "outputs": [],
   "source": [
    "import requests\n",
    "import pdf2image\n",
    "import pytesseract\n",
    "import nltk\n",
    "import hashlib\n",
    "from neo4j import GraphDatabase\n",
    "import pandas as pd\n",
    "from transformers import AutoTokenizer\n",
    "from zero_shot_re import RelTaggerModel, RelationExtractor\n",
    "import itertools"
   ]
  },
  {
   "cell_type": "code",
   "execution_count": null,
   "id": "c1833a73-8c4f-4e4a-b4ab-088dbae7f8f8",
   "metadata": {
    "scrolled": true
   },
   "outputs": [],
   "source": [
    "# download firest article from arxiv\n",
    "import requests\n",
    "import pdf2image\n",
    "import pytesseract\n",
    "\n",
    "pdf = requests.get('https://arxiv.org/pdf/2110.03526.pdf')\n",
    "doc = pdf2image.convert_from_bytes(pdf.content)\n",
    "# Get the article text\n",
    "article = []\n",
    "\n",
    "for page_number, page_data in enumerate(doc):\n",
    "    txt = pytesseract.image_to_string(page_data).encode(\"utf-8\")\n",
    "\n",
    "    # Sixth page contains only references\n",
    "    if page_number < 6:\n",
    "        article.append(txt.decode(\"utf-8\"))\n",
    "\n",
    "article_txt = \" \".join(article)\n",
    "\n"
   ]
  },
  {
   "cell_type": "code",
   "execution_count": null,
   "id": "282d0ef8",
   "metadata": {},
   "outputs": [],
   "source": [
    "#------------------------------------------ download second article from arxiv\n",
    "import requests\n",
    "import pdf2image\n",
    "import pytesseract\n",
    "\n",
    "pdf1 = requests.get('https://arxiv.org/pdf/2312.09317.pdf')\n",
    "doc1 = pdf2image.convert_from_bytes(pdf1.content)\n",
    "\n",
    "# Get the article text\n",
    "article1 = []\n",
    "\n",
    "for page_number, page_data in enumerate(doc1):\n",
    "    txt1 = pytesseract.image_to_string(page_data).encode(\"utf-8\")\n",
    "\n",
    "    # Sixth page contains only references\n",
    "    if page_number < 23 :\n",
    "        article1.append(txt1.decode(\"utf-8\"))\n",
    "\n",
    "article_txt1 = \" \".join(article1)"
   ]
  },
  {
   "cell_type": "code",
   "execution_count": null,
   "id": "b64ecc84-8cca-4707-8fb5-24b8dc4dc3dd",
   "metadata": {},
   "outputs": [],
   "source": [
    "#text processing for first article\n",
    "import nltk\n",
    "nltk.download('punkt')\n",
    "\n",
    "def clean_text(text):\n",
    "    \"\"\"Remove section titles and figure descriptions from text\"\"\"\n",
    "    clean = \"\\n\".join([row for row in text.split(\"\\n\") if\n",
    "                      (len(row.split(\" \"))) > 3 and not (row.startswith(\"(a)\"))\n",
    "                      and not row.startswith(\"Figure\")])\n",
    "    return clean\n",
    "\n",
    "text = article_txt.split(\"INTRODUCTION\")[1]\n",
    "ctext = clean_text(text)\n",
    "\n",
    "sentences = nltk.tokenize.sent_tokenize(ctext)"
   ]
  },
  {
   "cell_type": "code",
   "execution_count": null,
   "id": "8dfa381c",
   "metadata": {},
   "outputs": [],
   "source": [
    "#--------------------------------------------text processing text for second article\n",
    "import nltk\n",
    "nltk.download('punkt')\n",
    "\n",
    "def clean_text(text):\n",
    "    \"\"\"Remove section titles and figure descriptions from text\"\"\"\n",
    "    clean = \"\\n\".join([row for row in text.split(\"\\n\") if\n",
    "                      (len(row.split(\" \"))) > 3 and not (row.startswith(\"(a)\"))\n",
    "                      and not row.startswith(\"Figure\")])\n",
    "    return clean\n",
    "\n",
    "text1 = article_txt1.split(\"Introduction\")[1]\n",
    "ctext1 = clean_text(text1)\n",
    "\n",
    "sentences1 = nltk.tokenize.sent_tokenize(ctext1)"
   ]
  },
  {
   "cell_type": "code",
   "execution_count": 15,
   "id": "29c6c110",
   "metadata": {},
   "outputs": [],
   "source": [
    "#NER for first article\n",
    "import hashlib\n",
    "def query_plain(text, url=\"http://bern2.korea.ac.kr/plain\"):\n",
    " \"\"\"Biomedical entity linking API\"\"\"\n",
    " return requests.post(url, json={'text':str(text)}).json()"
   ]
  },
  {
   "cell_type": "code",
   "execution_count": null,
   "id": "8d3c1111",
   "metadata": {},
   "outputs": [],
   "source": [
    "#NER for first article\n",
    "\n",
    "entity_list = []\n",
    "print(len(sentences))\n",
    "\n",
    "i=0\n",
    "# The last sentence is invalid\n",
    "for s in sentences[:-1]:\n",
    "    print(\"doing sentence : \" + str(i))\n",
    "    entity_list.append(query_plain(s))\n",
    "    i += 1\n",
    "\n",
    "print(\"all calls done\")\n",
    "parsed_entities = []\n",
    "\n",
    "for entities in entity_list:\n",
    "    e = []\n",
    "    \n",
    "    # If there are no entities in the text\n",
    "    if not entities.get('annotations'):\n",
    "        parsed_entities.append({\n",
    "            'text': entities['text'],\n",
    "            'text_sha256': hashlib.sha256(entities['text'].encode('utf-8')).hexdigest()\n",
    "        })\n",
    "        continue\n",
    "    \n",
    "    for entity in entities['annotations']:\n",
    "        other_ids = [id for id in entity['id'] if not id.startswith(\"BERN\")]\n",
    "        entity_type = entity['obj']\n",
    "        entity_name = entities['text'][entity['span']['begin']:entity['span']['end']]\n",
    "        \n",
    "        try:\n",
    "            entity_id = [id for id in entity['id'] if id.startswith(\"BERN\")][0]\n",
    "        except IndexError:\n",
    "            entity_id = entity_name\n",
    "        \n",
    "        e.append({\n",
    "            'entity_id': entity_id,\n",
    "            'other_ids': other_ids,\n",
    "            'entity_type': entity_type,\n",
    "            'entity': entity_name\n",
    "        })\n",
    "\n",
    "    parsed_entities.append({\n",
    "        'entities': e,\n",
    "        'text': entities['text'],\n",
    "        'text_sha256': hashlib.sha256(entities['text'].encode('utf-8')).hexdigest()\n",
    "    })"
   ]
  },
  {
   "cell_type": "code",
   "execution_count": 18,
   "id": "719fe7f9",
   "metadata": {},
   "outputs": [],
   "source": [
    "#-----------------------------NER for second article\n",
    "import hashlib\n",
    "import requests  # Import the requests module\n",
    "\n",
    "def query_plain1(text1, url=\"http://bern2.korea.ac.kr/plain\"):\n",
    "    \"\"\"Biomedical entity linking API\"\"\"\n",
    "    return requests.post(url, json={'text': str(text1)}).json()"
   ]
  },
  {
   "cell_type": "code",
   "execution_count": null,
   "id": "37032856",
   "metadata": {},
   "outputs": [],
   "source": [
    "#---------------------------NER for second article\n",
    "#NER for first article\n",
    "\n",
    "entity_list1 = []\n",
    "print(len(sentences1))\n",
    "\n",
    "i=0\n",
    "# The last sentence is invalid\n",
    "for s1 in sentences1[:-1]:\n",
    "    print(\"doing sentence : \" + str(i))\n",
    "    entity_list1.append(query_plain1(s1))\n",
    "    i += 1\n",
    "\n",
    "print(\"all calls done\")\n",
    "parsed_entities1 = []\n",
    "\n",
    "for entities1 in entity_list1:\n",
    "    e1 = []\n",
    "    \n",
    "    # If there are no entities in the text\n",
    "    if not entities1.get('annotations'):\n",
    "        parsed_entities1.append({\n",
    "            'text': entities1['text'],\n",
    "            'text_sha256': hashlib.sha256(entities1['text'].encode('utf-8')).hexdigest()\n",
    "        })\n",
    "        continue\n",
    "    \n",
    "    for entity1 in entities1['annotations']:\n",
    "        other_ids1 = [id for id in entity1['id'] if not id.startswith(\"BERN\")]\n",
    "        entity_type1 = entity1['obj']\n",
    "        entity_name1 = entities1['text'][entity1['span']['begin']:entity1['span']['end']]\n",
    "        \n",
    "        try:\n",
    "            entity_id1 = [id for id in entity1['id'] if id.startswith(\"BERN\")][0]\n",
    "        except IndexError:\n",
    "            entity_id1 = entity_name1\n",
    "        \n",
    "        e1.append({\n",
    "            'entity_id': entity_id1,\n",
    "            'other_ids': other_ids1,\n",
    "            'entity_type': entity_type1,\n",
    "            'entity': entity_name1\n",
    "        })\n",
    "\n",
    "    parsed_entities1.append({\n",
    "        'entities': e1,\n",
    "        'text': entities1['text'],\n",
    "        'text_sha256': hashlib.sha256(entities1['text'].encode('utf-8')).hexdigest()\n",
    "    })\n"
   ]
  },
  {
   "cell_type": "code",
   "execution_count": 23,
   "id": "e0624110-2b7b-4a0d-ac35-a131f9a05548",
   "metadata": {},
   "outputs": [],
   "source": [
    "# Prepare the Neo4j connection in the notebook\n",
    "from neo4j import GraphDatabase\n",
    "import pandas as pd\n",
    "\n",
    "#host = 'bolt://44.198.180.127:7687'\n",
    "#user = 'neo4j'\n",
    "#password = 'rating-percentages-bears'\n",
    "host = 'bolt://52.91.239.25:7687'\n",
    "user = 'neo4j'\n",
    "password = 'disaster-ounce-waxes'\n",
    "driver = GraphDatabase.driver(host, auth=(user, password))\n",
    "\n",
    "def neo4j_query(query, params=None):\n",
    "    with driver.session() as session:\n",
    "        result = session.run(query, params)\n",
    "    return pd.DataFrame([r.values() for r in result], columns=result.keys())\n"
   ]
  },
  {
   "cell_type": "code",
   "execution_count": null,
   "id": "8b22715a-535d-4d0e-8455-567e2437c6c7",
   "metadata": {},
   "outputs": [],
   "source": [
    "# Import the author and the article into the graph\n",
    "import pandas as pd\n",
    "from neo4j import GraphDatabase\n",
    "\n",
    "# Your neo4j_query function\n",
    "def neo4j_query(query, params=None):\n",
    "    with driver.session() as session:\n",
    "        result = session.run(query, params)\n",
    "        result_list = [record.data() for record in result]\n",
    "    return result_list\n",
    "\n",
    "# Example query and parameters\n",
    "query = \"\"\"\n",
    "MERGE (a:Author {name: $author})\n",
    "MERGE (b:Article {title: $title})\n",
    "MERGE (a)-[:WROTE]->(b)\n",
    "\"\"\"\n",
    "params = {'title': '{title: $title}', 'author': '{name: $author}'}\n",
    "\n",
    "# Fetch all records at once\n",
    "result_list = neo4j_query(query)\n",
    "\n",
    "# Create DataFrame using the list of dictionaries\n",
    "df = pd.DataFrame(result_list)\n",
    "\n"
   ]
  },
  {
   "cell_type": "code",
   "execution_count": 155,
   "id": "c7a32888",
   "metadata": {},
   "outputs": [
    {
     "name": "stdout",
     "output_type": "stream",
     "text": [
      "Authors and article imported into the graph\n"
     ]
    }
   ],
   "source": [
    "#---------------------------------- texte_2 Import the author and the article into the graph\n",
    "authors = [\"Shabaz Sultan\", \"Sapna Devi\", \"Scott N. Mueller\", \"Johannes Textor\"]\n",
    "\n",
    "title = \"A parallelized cellular Potts model that enables simulations at tissue scale\"\n",
    "\n",
    "neo4j_query(\"\"\"\n",
    "\n",
    "MERGE (b:Article {title: $title})\n",
    "\n",
    "WITH b\n",
    "\n",
    "UNWIND $authors AS authorName\n",
    "\n",
    "MERGE (a:Author {name: authorName})\n",
    "\n",
    "MERGE (a)-[:WROTE]->(b)\n",
    "\n",
    "\"\"\", {'title': title, 'authors': authors})\n",
    "\n",
    "print(\"Authors and article imported into the graph\")\n",
    "\n",
    "\n"
   ]
  },
  {
   "cell_type": "code",
   "execution_count": 158,
   "id": "e98136b3-a990-48e1-be0b-488b60c69266",
   "metadata": {},
   "outputs": [
    {
     "data": {
      "text/plain": [
       "[]"
      ]
     },
     "execution_count": 158,
     "metadata": {},
     "output_type": "execute_result"
    }
   ],
   "source": [
    "# Import the sentences and mentioned entities\n",
    "neo4j_query(\"\"\"\n",
    "MATCH (a:Article)\n",
    "UNWIND $data as row\n",
    "MERGE (s:Sentence {id: row.text_sha256})\n",
    "SET s.text = row.text\n",
    "MERGE (a)-[:HAS_SENTENCE]->(s)\n",
    "WITH s, row.entities as entities\n",
    "UNWIND entities as entity\n",
    "MERGE (e:Entity {id: entity.entity_id})\n",
    "ON CREATE SET e.other_ids = entity.other_ids,\n",
    "  e.name = entity.entity,\n",
    "  e.type = entity.entity_type\n",
    "MERGE (s)-[m:MENTIONS]->(e)\n",
    "ON CREATE SET m.count = 1\n",
    "ON MATCH SET m.count = m.count + 1\n",
    "\"\"\", {'data': parsed_entities})\n",
    "\n"
   ]
  },
  {
   "cell_type": "code",
   "execution_count": 159,
   "id": "b048a077",
   "metadata": {},
   "outputs": [
    {
     "data": {
      "text/plain": [
       "[]"
      ]
     },
     "execution_count": 159,
     "metadata": {},
     "output_type": "execute_result"
    }
   ],
   "source": [
    "#-------------------------------------text_2 Import the sentences and mentioned entities\n",
    "neo4j_query(\"\"\"\n",
    "MATCH (a:Article)\n",
    "UNWIND $data as row\n",
    "MERGE (s:Sentence {id: row.text_sha256})\n",
    "SET s.text = row.text\n",
    "MERGE (a)-[:HAS_SENTENCE]->(s)\n",
    "WITH s, row.entities as entities\n",
    "UNWIND entities as entity\n",
    "MERGE (e:Entity {id: entity.entity_id})\n",
    "ON CREATE SET e.other_ids = entity.other_ids,\n",
    "  e.name = entity.entity,\n",
    "  e.type = entity.entity_type\n",
    "MERGE (s)-[m:MENTIONS]->(e)\n",
    "ON CREATE SET m.count = 1\n",
    "ON MATCH SET m.count = m.count + 1\n",
    "\"\"\", {'data': parsed_entities1})"
   ]
  },
  {
   "cell_type": "code",
   "execution_count": 165,
   "id": "cfd85387",
   "metadata": {},
   "outputs": [
    {
     "data": {
      "text/plain": [
       "[{'result': 'These cells, later found to be hematopoietic stem cells, have been used successfully to treat leukemia and some severe autoimmune diseases called bone marrow transplants.'}]"
      ]
     },
     "execution_count": 165,
     "metadata": {},
     "output_type": "execute_result"
    }
   ],
   "source": [
    "# example application 1 : search engine\n",
    "neo4j_query(\"\"\"\n",
    "MATCH (e:Entity)<-[:MENTIONS]-(s:Sentence)\n",
    "WHERE e.name = \"autoimmune diseases\"\n",
    "RETURN s.text as result\n",
    "\"\"\")"
   ]
  },
  {
   "cell_type": "code",
   "execution_count": 166,
   "id": "8d2270b3",
   "metadata": {},
   "outputs": [
    {
     "data": {
      "text/plain": [
       "[{'entity1': 'collagen', 'entity2': 'fibroblasts', 'cooccurrence': 6},\n",
       " {'entity1': 'mesenchymal stem cells',\n",
       "  'entity2': 'collagen',\n",
       "  'cooccurrence': 4},\n",
       " {'entity1': 'mesenchymal stem cells',\n",
       "  'entity2': 'fibroblasts',\n",
       "  'cooccurrence': 4}]"
      ]
     },
     "execution_count": 166,
     "metadata": {},
     "output_type": "execute_result"
    }
   ],
   "source": [
    "# example application 2 : co-occurrence\n",
    "neo4j_query(\"\"\"\n",
    "MATCH (e1:Entity)<-[:MENTIONS]-()-[:MENTIONS]->(e2:Entity)\n",
    "WHERE id(e1) < id(e2)\n",
    "RETURN e1.name as entity1, e2.name as entity2, count(*) as \n",
    "cooccurrence\n",
    "ORDER BY cooccurrence\n",
    "DESC LIMIT 3\n",
    "\"\"\")"
   ]
  },
  {
   "cell_type": "code",
   "execution_count": 173,
   "id": "445084e2-f34f-46b6-8be3-dcce4c25f889",
   "metadata": {},
   "outputs": [
    {
     "data": {
      "text/plain": [
       "[{'author': 'Sapna Devi', 'entity': 'GPU', 'count': 20},\n",
       " {'author': 'Scott N. Mueller', 'entity': 'GPU', 'count': 20},\n",
       " {'author': 'Shabaz Sultan', 'entity': 'GPU', 'count': 20},\n",
       " {'author': 'Mohammadreza Ahmadi', 'entity': 'GPU', 'count': 20},\n",
       " {'author': 'Johannes Textor', 'entity': 'GPU', 'count': 20}]"
      ]
     },
     "execution_count": 173,
     "metadata": {},
     "output_type": "execute_result"
    }
   ],
   "source": [
    "\n",
    "# example application 3 : author expertise\n",
    "neo4j_query(\"\"\"\n",
    "MATCH (a:Author)-[:WROTE]->()-[:HAS_SENTENCE]->()-[:MENTIONS]-\n",
    ">(e:Entity)\n",
    "RETURN a.name as author, e.name as entity, count(*) as count\n",
    "ORDER BY count DESC\n",
    "LIMIT 5\n",
    "\"\"\")"
   ]
  },
  {
   "cell_type": "code",
   "execution_count": 164,
   "id": "d6ec77c1",
   "metadata": {},
   "outputs": [
    {
     "data": {
      "text/plain": [
       "[{'result': 'When modelling tissue environments, many researchers wish to consider both he complex morphology of single cells, and the behavior of these cells as part of larger collectives.'}]"
      ]
     },
     "execution_count": 164,
     "metadata": {},
     "output_type": "execute_result"
    }
   ],
   "source": [
    "#-------------------------------------text_2\n",
    "# example application 1 : search engine\n",
    "# example application 1 : search engine\n",
    "neo4j_query(\"\"\"\n",
    "MATCH (e:Entity)<-[:MENTIONS]-(s:Sentence)\n",
    "WHERE e.name = \"single cells\"\n",
    "RETURN s.text as result\n",
    "\"\"\")\n"
   ]
  },
  {
   "cell_type": "code",
   "execution_count": 171,
   "id": "f1c1a455",
   "metadata": {},
   "outputs": [
    {
     "data": {
      "text/plain": [
       "[]"
      ]
     },
     "execution_count": 171,
     "metadata": {},
     "output_type": "execute_result"
    }
   ],
   "source": [
    "# texte_2\n",
    "# example co-occurrence\n",
    "neo4j_query(\"\"\"\n",
    "MATCH (s:Sentence1)-[:MENTIONS]->(e1:Entity)\n",
    "MATCH (s:Sentence1)-[:MENTIONS]->(e2:Entity)\n",
    "WHERE id(e1) < id(e2)\n",
    "RETURN e1.name as entity1, e2.name as entity2, count(*) as cooccurrence\n",
    "ORDER BY cooccurrence DESC LIMIT 3\n",
    "\"\"\")\n"
   ]
  },
  {
   "cell_type": "code",
   "execution_count": 172,
   "id": "010bb2da",
   "metadata": {},
   "outputs": [
    {
     "data": {
      "text/plain": [
       "[{'author': 'Sapna Devi', 'entity': 'GPU', 'count': 20},\n",
       " {'author': 'Scott N. Mueller', 'entity': 'GPU', 'count': 20},\n",
       " {'author': 'Shabaz Sultan', 'entity': 'GPU', 'count': 20},\n",
       " {'author': 'Mohammadreza Ahmadi', 'entity': 'GPU', 'count': 20},\n",
       " {'author': 'Johannes Textor', 'entity': 'GPU', 'count': 20}]"
      ]
     },
     "execution_count": 172,
     "metadata": {},
     "output_type": "execute_result"
    }
   ],
   "source": [
    "# tete_2\n",
    "# example author expertise\n",
    "neo4j_query(\"\"\"\n",
    "MATCH (a:Author)-[:WROTE]->()-[:HAS_SENTENCE]->()-[:MENTIONS]-\n",
    ">(e:Entity)\n",
    "RETURN a.name as author, e.name as entity, count(*) as count\n",
    "ORDER BY count DESC\n",
    "LIMIT 5\n",
    "\"\"\")"
   ]
  },
  {
   "cell_type": "code",
   "execution_count": null,
   "id": "553d3b47",
   "metadata": {},
   "outputs": [
    {
     "name": "stderr",
     "output_type": "stream",
     "text": [
      "Downloading: 100%|██████████| 1.34G/1.34G [14:38<00:00, 1.53MB/s]\n"
     ]
    },
    {
     "data": {
      "text/plain": [
       "'C:\\\\Users\\\\Fredy Rodriguez/.cache\\\\huggingface\\\\transformers\\\\ca2ac20761877486c1e2204d99653106b9adacf9a5eb18ec71b41d2dbef42103.2db7ae79c41a184c87600faabafa1369db2b16457723fd154ca3b436c4172807'"
      ]
     },
     "execution_count": 56,
     "metadata": {},
     "output_type": "execute_result"
    }
   ],
   "source": [
    "from transformers import cached_path\n",
    "\n",
    "cached_path(\"https://s3.amazonaws.com/models.huggingface.co/bert/bert-large-uncased-whole-word-masking-finetuned-squad-pytorch_model.bin\", cache_dir=None)"
   ]
  },
  {
   "cell_type": "code",
   "execution_count": null,
   "id": "eebb0474",
   "metadata": {},
   "outputs": [],
   "source": [
    "#deleting the contents of the cache directory.\n",
    "import shutil\n",
    "import os\n",
    "\n",
    "cache_dir = os.path.expanduser(\"~/.cache/huggingface/transformers\")\n",
    "shutil.rmtree(cache_dir, ignore_errors=True)\n"
   ]
  },
  {
   "cell_type": "code",
   "execution_count": 174,
   "id": "71bdaae9-57ba-48e4-bca4-2c838c83dded",
   "metadata": {},
   "outputs": [],
   "source": [
    "from transformers import AutoTokenizer\n",
    "from zero_shot_re import RelTaggerModel, RelationExtractor\n",
    "\n",
    "# Load pre-trained model and tokenizer\n",
    "model = RelTaggerModel.from_pretrained(\"fractalego/fewrel-zero-shot\")\n",
    "tokenizer = AutoTokenizer.from_pretrained(\"bert-large-uncased-whole-word-masking-finetuned-squad\")\n",
    "\n",
    "# Define the relations you want to extract\n",
    "relations = ['associated', 'interacts']\n",
    "\n",
    "# Create a RelationExtractor instance\n",
    "extractor = RelationExtractor(model, tokenizer, relations)\n"
   ]
  },
  {
   "cell_type": "code",
   "execution_count": 176,
   "id": "99a6ceb0",
   "metadata": {},
   "outputs": [],
   "source": [
    "#------------------------------------text_1\n",
    "from transformers import AutoTokenizer\n",
    "from zero_shot_re import RelTaggerModel, RelationExtractor\n",
    "\n",
    "# Load pre-trained model and tokenizer\n",
    "model1 = RelTaggerModel.from_pretrained(\"fractalego/fewrel-zero-shot\")\n",
    "tokenizer1 = AutoTokenizer.from_pretrained(\"bert-large-uncased-whole-word-masking-finetuned-squad\")\n",
    "\n",
    "# Define the relations you want to extract\n",
    "relations1 = ['associated', 'interacts']\n",
    "\n",
    "# Create a RelationExtractor instance\n",
    "extractor1 = RelationExtractor(model1, tokenizer1, relations1)"
   ]
  },
  {
   "cell_type": "code",
   "execution_count": 177,
   "id": "1e4f01c5-62a7-400b-9c8a-ff0a7d7bd9a7",
   "metadata": {},
   "outputs": [
    {
     "name": "stdout",
     "output_type": "stream",
     "text": [
      "[{'entities': [{'entity_id': 'people', 'other_ids': ['NCBITaxon:9606'], 'entity_type': 'species', 'entity': 'people'}, {'entity_id': 'skin diseases', 'other_ids': ['mesh:D012871'], 'entity_type': 'disease', 'entity': 'skin diseases'}, {'entity_id': 'chronic wounds', 'other_ids': ['mesh:D002908'], 'entity_type': 'disease', 'entity': 'chronic wounds'}, {'entity_id': 'non-healing and diabetic ulcers', 'other_ids': ['mesh:D003668'], 'entity_type': 'disease', 'entity': 'non-healing and diabetic ulcers'}], 'text': 'Many people with skin diseases such as chronic wounds, non-healing and diabetic ulcers need reconstruction and regeneration of their skin.', 'text_sha256': '95be1713dbb23e86525959e49ea5a196b49f3bbc1ce8c6cbfa373f176c9d39ae'}, {'entities': [{'entity_id': 'pluripotent', 'other_ids': ['CUI-less'], 'entity_type': 'cell_line', 'entity': 'pluripotent'}, {'entity_id': 'pluripotent stem cells', 'other_ids': ['CUI-less'], 'entity_type': 'cell_type', 'entity': 'pluripotent stem cells'}, {'entity_id': 'bone marrow stem cells', 'other_ids': ['CUI-less'], 'entity_type': 'cell_type', 'entity': 'bone marrow stem cells'}, {'entity_id': 'fat-derived stem cells', 'other_ids': ['CUI-less'], 'entity_type': 'cell_type', 'entity': 'fat-derived stem cells'}], 'text': 'Reconstructive medicine used the method to deliver pluripotent stem cells to the 33 years after the introduction of bone marrow stem cells, fat-derived stem cells have become an excellent source for cell therapy.', 'text_sha256': 'b0c0e0caafe6a371790c385375c5ab9a5edfd695d152ccb5137afdf545e190ab'}, {'entities': [{'entity_id': 'hematopoietic stem cells', 'other_ids': ['CUI-less'], 'entity_type': 'cell_type', 'entity': 'hematopoietic stem cells'}, {'entity_id': 'leukemia', 'other_ids': ['mesh:D007938'], 'entity_type': 'disease', 'entity': 'leukemia'}, {'entity_id': 'autoimmune diseases', 'other_ids': ['mesh:D001327', 'mim:109100'], 'entity_type': 'disease', 'entity': 'autoimmune diseases'}], 'text': 'These cells, later found to be hematopoietic stem cells, have been used successfully to treat leukemia and some severe autoimmune diseases called bone marrow transplants.', 'text_sha256': '9785b08aa0fecd2e0a28784a7f550f08201c5fafed3e2fd72cb3e3c4c0faf19a'}, {'entities': [{'entity_id': 'stem cell', 'other_ids': ['CL:0000034'], 'entity_type': 'cell_type', 'entity': 'stem cell'}, {'entity_id': 'joint diseases', 'other_ids': ['mim:140600', 'mesh:D010003'], 'entity_type': 'disease', 'entity': 'joint diseases'}], 'text': 'In 1968, another stem cell was introduced into the bone marrow, which has been shown to be effective due to its high ability to regulate immunity in many diseases, including skin, bone, joint diseases, heart, brain, nerves, and kidney.', 'text_sha256': 'a5a27a6b13d60968783b2e161c2f06b631e4f2efb9c9b03397c7835840d13b89'}, {'entities': [{'entity_id': 'human', 'other_ids': ['NCBITaxon:9606'], 'entity_type': 'species', 'entity': 'human'}, {'entity_id': 'stem cell', 'other_ids': ['CL:0000034'], 'entity_type': 'cell_type', 'entity': 'stem cell'}, {'entity_id': 'bone marrow stem cells', 'other_ids': ['CUI-less'], 'entity_type': 'cell_type', 'entity': 'bone marrow stem cells'}], 'text': 'Nevertheless, it took scientists another 33 years to discover that human adipose tissue also has a stem cell, similar to bone marrow stem cells.', 'text_sha256': '028cec8f7cf00063675b02869b6c424d923e2f0661c30d9331c4942007b01c21'}, {'entities': [{'entity_id': 'human', 'other_ids': ['NCBITaxon:9606'], 'entity_type': 'species', 'entity': 'human'}, {'entity_id': 'stem cells', 'other_ids': ['CUI-less'], 'entity_type': 'cell_type', 'entity': 'stem cells'}], 'text': 'Each gram of human fat has 100 to 500 times more stem cells than bone marrow and is easier to obtain.', 'text_sha256': '99c395a72666cd8d0423c79e1d5f42daeda06b03d80e76a36ba991024c84408c'}, {'entities': [{'entity_id': 'Mesenchymal stem cells', 'other_ids': ['CUI-less'], 'entity_type': 'cell_type', 'entity': 'Mesenchymal stem cells'}, {'entity_id': 'targeted', 'other_ids': ['CUI-less'], 'entity_type': 'cell_line', 'entity': 'targeted'}, {'entity_id': 'targeted tissue', 'other_ids': ['CUI-less'], 'entity_type': 'cell_type', 'entity': 'targeted tissue'}], 'text': 'Mesenchymal stem cells are the most interesting because when they get placed in the right environment and are coupled with the proper growth factors, they can choose a pathway to differentiate into that targeted tissue.', 'text_sha256': '14158336512ad4f512d796f95bed14dab9902aa06c9b2d352216bb51fb7e5df8'}, {'entities': [{'entity_id': 'collagen', 'other_ids': ['NCBIGene:1280'], 'entity_type': 'gene', 'entity': 'collagen'}, {'entity_id': 'fibroblasts', 'other_ids': ['CUI-less'], 'entity_type': 'cell_type', 'entity': 'fibroblasts'}], 'text': 'Fats are made out of fibrous, collagen fibers, and fibroblasts.', 'text_sha256': '61cd48281cbbbe54f962eac9251efd58747bbd63e4f53d148a1e9fb38584b334'}, {'entities': [{'entity_id': 'collagenase enzymes', 'other_ids': ['NCBIGene:4312'], 'entity_type': 'gene', 'entity': 'collagenase enzymes'}, {'entity_id': 'collagen', 'other_ids': ['NCBIGene:1280'], 'entity_type': 'gene', 'entity': 'collagen'}, {'entity_id': 'fibroblasts', 'other_ids': ['CUI-less'], 'entity_type': 'cell_type', 'entity': 'fibroblasts'}, {'entity_id': 'mesenchymal stem cells', 'other_ids': ['CUI-less'], 'entity_type': 'cell_line', 'entity': 'mesenchymal stem cells'}], 'text': 'On one hand, by injecting collagenase enzymes into the fat, all the collagen fibers and fibroblasts would slip away, and the pure mesenchymal stem cells would be available.', 'text_sha256': '50d0f4e2ae5e02d9618325ae8cc864b9208eaf9e34c3ac944ba073e058ea1633'}, {'entities': [{'entity_id': 'engineered stem cell', 'other_ids': ['CUI-less'], 'entity_type': 'cell_line', 'entity': 'engineered stem cell'}, {'entity_id': 'SVF', 'other_ids': ['CUI-less'], 'entity_type': 'cell_line', 'entity': 'SVF'}, {'entity_id': 'mesenchymal cells', 'other_ids': ['CUI-less'], 'entity_type': 'cell_type', 'entity': 'mesenchymal cells'}, {'entity_id': 'inflammatory cells', 'other_ids': ['CUI-less'], 'entity_type': 'cell_type', 'entity': 'inflammatory cells'}, {'entity_id': 'macrophage', 'other_ids': ['CL:0000235'], 'entity_type': 'cell_type', 'entity': 'macrophage'}, {'entity_id': '-monocyte', 'other_ids': ['CUI-less'], 'entity_type': 'cell_type', 'entity': '-monocyte'}, {'entity_id': 'fibroblasts', 'other_ids': ['CUI-less'], 'entity_type': 'cell_type', 'entity': 'fibroblasts'}, {'entity_id': 'mesenchymal cells', 'other_ids': ['CUI-less'], 'entity_type': 'cell_type', 'entity': 'mesenchymal cells'}], 'text': 'On the other hand, In the engineered stem cell vascular fraction (SVF), which is a pellet containing mesenchymal cells, growth factors, inflammatory cells like macrophage-monocyte and fibroblasts, the mesenchymal cells get separated from all the other components by the centrifugation process.', 'text_sha256': '51c4910f2b4f40b8dd2a79181a734844cfc89d16e67ef6badf378470e73cf3de'}, {'entities': [{'entity_id': 'mesenchymal stem cells', 'other_ids': ['CUI-less'], 'entity_type': 'cell_line', 'entity': 'mesenchymal stem cells'}, {'entity_id': 'fibroblasts', 'other_ids': ['CUI-less'], 'entity_type': 'cell_type', 'entity': 'fibroblasts'}, {'entity_id': 'collagen', 'other_ids': ['NCBIGene:1280'], 'entity_type': 'gene', 'entity': 'collagen'}], 'text': 'Placing the mesenchymal stem cells into the targeted environment and providing the proper growth factors can produce fibroblasts and collagen to reconstruct the skin.', 'text_sha256': '23b6860ad70b95fc3013fbd75eb2165bba1a0ccab1bb166c9bc71e41be803871'}, {'entities': [{'entity_id': 'stem cell', 'other_ids': ['CL:0000034'], 'entity_type': 'cell_type', 'entity': 'stem cell'}, {'entity_id': 'stem', 'other_ids': ['CUI-less'], 'entity_type': 'cell_line', 'entity': 'stem'}, {'entity_id': 'stem cell', 'other_ids': ['CL:0000034'], 'entity_type': 'cell_type', 'entity': 'stem cell'}, {'entity_id': 'stem cell', 'other_ids': ['CL:0000034'], 'entity_type': 'cell_type', 'entity': 'stem cell'}], 'text': 'As mentioned above, the stem cell environment is critical, and there is a possibility of stem cell movement due to the blood flow and paracrine, which the stem cell would secrete and affect its environment.', 'text_sha256': '43b81e871c1f1a66d0646735cc81d330c1ab19a013ba58cd3f3281f3246b1f07'}, {'entities': [{'entity_id': 'stem', 'other_ids': ['CUI-less'], 'entity_type': 'cell_line', 'entity': 'stem'}, {'entity_id': 'stem cell', 'other_ids': ['CL:0000034'], 'entity_type': 'cell_type', 'entity': 'stem cell'}], 'text': 'Therefore, the matrix that keeps the stem cell in its place from getting flushed away by the blood flow and affecting its environment, known as the scaffold, was discovered.', 'text_sha256': '7cff074d2e8a691cf68d11d134c4f4eb04153c0034338700f784236e969a3952'}, {'entities': [{'entity_id': 'mesenchymal cells', 'other_ids': ['CUI-less'], 'entity_type': 'cell_type', 'entity': 'mesenchymal cells'}, {'entity_id': 'targeted', 'other_ids': ['CUI-less'], 'entity_type': 'cell_type', 'entity': 'targeted'}, {'entity_id': 'CD44 receptors', 'other_ids': ['NCBIGene:960'], 'entity_type': 'gene', 'entity': 'CD44 receptors'}, {'entity_id': 'fibroblasts', 'other_ids': ['CUI-less'], 'entity_type': 'cell_type', 'entity': 'fibroblasts'}, {'entity_id': 'collagen', 'other_ids': ['NCBIGene:1280'], 'entity_type': 'gene', 'entity': 'collagen'}], 'text': \"The newest method utilized has been using alginate scaffolds, containing the mesenchymal cells and the essential growth factors, into the targeted cell resulting in stimulating the CD44 receptors on the skin's fibroblasts, causing a rush of collagen production.\", 'text_sha256': 'b38bda76c13cd4a324995aa3e69f225c22991c21d14ca234b04927d75563e681'}, {'entities': [{'entity_id': 'green', 'other_ids': ['NCBIGene:2141'], 'entity_type': 'gene', 'entity': 'green'}, {'entity_id': 'mice', 'other_ids': ['NCBITaxon:10095'], 'entity_type': 'species', 'entity': 'mice'}, {'entity_id': 'mouse', 'other_ids': ['NCBITaxon:10090'], 'entity_type': 'species', 'entity': 'mouse'}], 'text': 'As we learned in our lectures, the green fluorescent protein bone marrow was implanted into non-green fluorescent protein mice resulting from HCT, (hematopoietic cell transplantation) improved the animal survival in a mouse model, which was surprising.', 'text_sha256': 'b9905fc5a29947f9f2b128858bb4773f599f9aacc17e9253b9b755b1891f6007'}, {'entities': [{'entity_id': 'skin cells', 'other_ids': ['CUI-less'], 'entity_type': 'cell_type', 'entity': 'skin cells'}, {'entity_id': 'skin wounds', 'other_ids': ['mesh:D014947'], 'entity_type': 'disease', 'entity': 'skin wounds'}], 'text': 'Over time, The biological skin replacement has dramatically improved from individual application of skin cells to cells and scaffold combinations for treatments, healing, and acute and chronic skin wounds.', 'text_sha256': 'c312653b440c5fa471cbb7593bd437e436761221b79de9d1257a7ff19f6afff0'}, {'entities': [{'entity_id': 'skin wounds', 'other_ids': ['mesh:D014947'], 'entity_type': 'disease', 'entity': 'skin wounds'}, {'entity_id': 'scarring', 'other_ids': ['mesh:D002921'], 'entity_type': 'disease', 'entity': 'scarring'}, {'entity_id': 'burn', 'other_ids': ['mesh:D002056'], 'entity_type': 'disease', 'entity': 'burn'}], 'text': 'developmental biology into possible biological skin replacements can have a full recovery of anatomy and physiology, along with eliminating morbidity from skin wounds In recent years, improvements in early wound excision, respiratory assistance, fluid revival, treatment of inhalation damage, enhanced immune function, infection prevention, integration of aerobic activity during healing, and advancement of anti-scarring techniques have all been accomplished in burn care.', 'text_sha256': 'b3813216374fb4ba0169d73ea0706708f7885998f6152f67f82ec4a4f5f2f91f'}, {'entities': [{'entity_id': 'Autologous', 'other_ids': ['CUI-less'], 'entity_type': 'cell_line', 'entity': 'Autologous'}, {'entity_id': 'Autologous cells', 'other_ids': ['CUI-less'], 'entity_type': 'cell_type', 'entity': 'Autologous cells'}], 'text': 'Autologous cells can permanently reside on the wound to have definitive wound closure.', 'text_sha256': '010afc176b1bfd8be2dea31503c53b185c45dff6c668d8ae0ee49c8d1af5bbdd'}, {'entities': [{'entity_id': 'allogeneic cells', 'other_ids': ['CUI-less'], 'entity_type': 'cell_type', 'entity': 'allogeneic cells'}, {'entity_id': 'allogeneic fibroblast', 'other_ids': ['CUI-less'], 'entity_type': 'cell_type', 'entity': 'allogeneic fibroblast'}], 'text': 'In contrast, allogeneic cells can stay on the wound for a few days or weeks; However, the combination of the allogeneic fibroblast with biodegradable scaffolds would provide extracellular matrix and growth factors components would facilitates faster wound closure by motivating autologous healing, but it does not last long maybe for only a few days to weeks.', 'text_sha256': '0139fe4a6ab7b550a466f51d1699f61239685e836b74bc87713b825b06c599d9'}, {'entities': [{'entity_id': 'hair follicle cells', 'other_ids': ['CUI-less'], 'entity_type': 'cell_type', 'entity': 'hair follicle cells'}, {'entity_id': 'ADSCs', 'other_ids': ['CUI-less'], 'entity_type': 'cell_type', 'entity': 'ADSCs'}, {'entity_id': 'adipose tissue-related stem cells', 'other_ids': ['CUI-less'], 'entity_type': 'cell_type', 'entity': 'adipose tissue-related stem cells'}, {'entity_id': 'mesenchymal stem cells', 'other_ids': ['CUI-less'], 'entity_type': 'cell_type', 'entity': 'mesenchymal stem cells'}], 'text': 'At the base of hair follicle cells ADSCs (adipose tissue-related stem cells) are mesenchymal stem cells found in subcutaneous tissue.', 'text_sha256': '7968a81b8f6a796d157d5a045f9b4bc51fca3e9d9004aec1e66bab81666277d4'}, {'entities': [{'entity_id': 'skin cells', 'other_ids': ['CUI-less'], 'entity_type': 'cell_type', 'entity': 'skin cells'}, {'entity_id': 'dead cells', 'other_ids': ['CUI-less'], 'entity_type': 'cell_type', 'entity': 'dead cells'}, {'entity_id': 'ADSCs', 'other_ids': ['CUI-less'], 'entity_type': 'cell_line', 'entity': 'ADSCs'}], 'text': 'Proliferating and dividing into skin cells to replace damaged or dead cells are known to be done by ADSCs.', 'text_sha256': 'eae84a46995889878cf1938fb3027fc57f6aa2b8438dc4af8e0626a150f74402'}, {'entities': [{'entity_id': 'ADSCs', 'other_ids': ['CUI-less'], 'entity_type': 'cell_type', 'entity': 'ADSCs'}, {'entity_id': 'dermal fibroblasts', 'other_ids': ['CUI-less'], 'entity_type': 'cell_type', 'entity': 'dermal fibroblasts'}, {'entity_id': 'DF', 'other_ids': ['CUI-less'], 'entity_type': 'cell_type', 'entity': 'DF'}, {'entity_id': 'endothelial cells', 'other_ids': ['CUI-less'], 'entity_type': 'cell_type', 'entity': 'endothelial cells'}, {'entity_id': 'keratinocytes', 'other_ids': ['CUI-less'], 'entity_type': 'cell_type', 'entity': 'keratinocytes'}], 'text': 'During wound recovery, ADSCs have a high capacity to migrate to wounded sites and are recruited quickly, in addition to their division into dermal fibroblasts (DF), endothelial cells, and keratinocytes.', 'text_sha256': 'da18fbf792720a037844102d4d6a16c16f628e0b5c38b8db8c948c4670fa3200'}, {'entities': [{'entity_id': 'Adipose', 'other_ids': ['CUI-less'], 'entity_type': 'cell_line', 'entity': 'Adipose'}, {'entity_id': 'Adipose-derived stem cells', 'other_ids': ['CUI-less'], 'entity_type': 'cell_type', 'entity': 'Adipose-derived stem cells'}], 'text': 'Adipose-derived stem cells are primarily more proliferative and have immunoregulatory properties, which means they are isolated in a less disruptive and more reproducible manner with the capability of inactivating T cells [8].', 'text_sha256': '031e9cbf2f2583efa10c22db84433800b4d955ee17a9a1f8dac6c20001ea8588'}, {'entities': [{'entity_id': 'ADSCs', 'other_ids': ['CUI-less'], 'entity_type': 'cell_type', 'entity': 'ADSCs'}, {'entity_id': 'ADSCs', 'other_ids': ['CUI-less'], 'entity_type': 'cell_type', 'entity': 'ADSCs'}], 'text': 'A set of trophic factors that secretome correlates to cytokines, growth factors, and chemokines that enable ADSCs to function as paracrine tools rather than cell ADSCs were also discovered in subcutaneous tissue.', 'text_sha256': '41a24c5819d69ef35bf9650bc5c3892d2668b06249ca4e7d2c8afb762534c9bf'}, {'entities': [{'entity_id': 'dermal fibroblasts', 'other_ids': ['CUI-less'], 'entity_type': 'cell_type', 'entity': 'dermal fibroblasts'}, {'entity_id': 'keratinocytes', 'other_ids': ['CUI-less'], 'entity_type': 'cell_type', 'entity': 'keratinocytes'}, {'entity_id': 'epithelial cells', 'other_ids': ['CUI-less'], 'entity_type': 'cell_type', 'entity': 'epithelial cells'}, {'entity_id': 'ADSC', 'other_ids': ['CUI-less'], 'entity_type': 'cell_line', 'entity': 'ADSC'}], 'text': 'This involvement plays an essential role in skin restoration and regeneration by retaining and rejuvenating skin tissue structure (even it can be as a physiological reaction to local injury) by seeding younger cells to the epidermis, which they later differentiate into dermal fibroblasts, keratinocytes, and other The tendency of different epithelial cells to secrete growth factors and extracellular matrix (ECM) proteins maintains a differentiation of rejuvenation and regeneration in the ADSC microenvironment.', 'text_sha256': '8efc3f9874fb8a5785e26c2db7bc0c33c68e728c74a4e902154349766fac46ce'}, {'entities': [{'entity_id': 'ADSCs', 'other_ids': ['CUI-less'], 'entity_type': 'cell_type', 'entity': 'ADSCs'}, {'entity_id': 'DFs', 'other_ids': ['NCBIGene:1675'], 'entity_type': 'gene', 'entity': 'DFs'}], 'text': 'Furthermore, the primary sources of extracellular matrix (ECM) are ADSCs and DFs proteins involved in skin structure and functionality.', 'text_sha256': '6ea83e4f6f61370bacd568f4937a18a6f22a09b0ac242dcda65e9f9ab5871b6b'}, {'entities': [{'entity_id': 'Extracellular vesicles', 'other_ids': ['CUI-less'], 'entity_type': 'cell_type', 'entity': 'Extracellular vesicles'}, {'entity_id': 'mRNAs', 'other_ids': ['CUI-less'], 'entity_type': 'RNA', 'entity': 'mRNAs'}, {'entity_id': 'miRNAs', 'other_ids': ['CUI-less'], 'entity_type': 'RNA', 'entity': 'miRNAs'}], 'text': 'Extracellular vesicles are lipid bilayer vesicles that include several RNA organisms (including mRNAs and miRNAs), soluble (cytosolic) proteins, and transmembrane proteins in the proper and functional orientation [8].', 'text_sha256': 'b419be85e36b6dfcaea9fc203f62b7d6a5ea2d6b5d4748456f33e74518ed2eb5'}, {'entities': [{'entity_id': 'Exosomes', 'other_ids': ['CUI-less'], 'entity_type': 'cell_type', 'entity': 'Exosomes'}, {'entity_id': 'extracellular vesicles', 'other_ids': ['CUI-less'], 'entity_type': 'cell_type', 'entity': 'extracellular vesicles'}, {'entity_id': 'EV', 'other_ids': ['CUI-less'], 'entity_type': 'cell_type', 'entity': 'EV'}], 'text': 'Exosomes, which are emitted through the fusion of the multivesicular structure with both microvesicles and the cell membrane that have been released directly from the cell membrane, are examples of extracellular vesicles (EV) [4].', 'text_sha256': 'b4232482009734fa050ce23a6f943fcc1fbf0c14d7b33dad6024f4d840c194d6'}, {'entities': [{'entity_id': 'EVs', 'other_ids': ['CUI-less'], 'entity_type': 'cell_type', 'entity': 'EVs'}, {'entity_id': 'recipient cells', 'other_ids': ['CUI-less'], 'entity_type': 'cell_type', 'entity': 'recipient cells'}], 'text': 'The many processes in which EVs are active and the elasticity in which they may affect the activity of recipient cells allows EV, a fascinating subject, to be utilized for both therapeutic and diagnostic purposes.', 'text_sha256': '37011fab65168b949e30d50e790c83509018c12f08db33276b8578040397b90b'}, {'entities': [{'entity_id': 'MSCs', 'other_ids': ['CUI-less'], 'entity_type': 'cell_type', 'entity': 'MSCs'}, {'entity_id': 'multipotent mesenchymal stem cells', 'other_ids': ['CUI-less'], 'entity_type': 'cell_type', 'entity': 'multipotent mesenchymal stem cells'}, {'entity_id': 'stem cells', 'other_ids': ['CUI-less'], 'entity_type': 'cell_type', 'entity': 'stem cells'}], 'text': 'MSCs (multipotent mesenchymal stem cells) are discovered as residual stem cells in majority adult organs, especially adipose tissue.', 'text_sha256': '596a0a6409088cec66898737dc1ef86639c528d49c101db650d84629bea30b23'}, {'entities': [{'entity_id': 'mesenchymal cell', 'other_ids': ['CL:0008019'], 'entity_type': 'cell_type', 'entity': 'mesenchymal cell'}, {'entity_id': 'mesenchymal vascular fraction', 'other_ids': ['CUI-less'], 'entity_type': 'cell_type', 'entity': 'mesenchymal vascular fraction'}], 'text': 'These cells exhibit standard mesenchymal cell properties in vitro and are segregated from the mesenchymal vascular fraction.', 'text_sha256': '35eebfbed314ecbc231c5fd21c1e983c8639dfd2daa3a209fe6899f2d1afad72'}, {'entities': [{'entity_id': 'wound', 'other_ids': ['mesh:D014947'], 'entity_type': 'disease', 'entity': 'wound'}, {'entity_id': 'Epidermolysis bullosa', 'other_ids': ['mesh:D004820'], 'entity_type': 'disease', 'entity': 'Epidermolysis bullosa'}, {'entity_id': 'genodermatosis', 'other_ids': ['mesh:D012871'], 'entity_type': 'disease', 'entity': 'genodermatosis'}, {'entity_id': 'hereditary skin disease', 'other_ids': ['mesh:D012871'], 'entity_type': 'disease', 'entity': 'hereditary skin disease'}, {'entity_id': 'genes', 'other_ids': ['CUI-less'], 'entity_type': 'DNA', 'entity': 'genes'}, {'entity_id': 'collagen', 'other_ids': ['NCBIGene:1280'], 'entity_type': 'gene', 'entity': 'collagen'}], 'text': 'Changes in EV content in response to conditions specific to growth would play a crucial role in these cases by affecting tissue regeneration and wound repair by identifying new pathways into Epidermolysis bullosa is a genodermatosis, a hereditary skin disease that usually mutations of genes encoding extracellular matrix proteins (collagen) are the primary cause.', 'text_sha256': '6bc42056308ecd2168a0bc29496b40e166832a09bb07efe85f9de69b330fe4ba'}, {'entities': [{'entity_id': 'patient', 'other_ids': ['NCBITaxon:9606'], 'entity_type': 'species', 'entity': 'patient'}, {'entity_id': 'renewable community', 'other_ids': ['CUI-less'], 'entity_type': 'cell_type', 'entity': 'renewable community'}, {'entity_id': 'pluripotent stem cells', 'other_ids': ['CUI-less'], 'entity_type': 'cell_type', 'entity': 'pluripotent stem cells'}, {'entity_id': 'patients', 'other_ids': ['NCBITaxon:9606'], 'entity_type': 'species', 'entity': 'patients'}, {'entity_id': 'epidermolysis', 'other_ids': ['mesh:D004820'], 'entity_type': 'disease', 'entity': 'epidermolysis'}, {'entity_id': 'skin disease', 'other_ids': ['mesh:D012871'], 'entity_type': 'disease', 'entity': 'skin disease'}, {'entity_id': 'diabetic foot ulcers', 'other_ids': ['mesh:D017719'], 'entity_type': 'disease', 'entity': 'diabetic foot ulcers'}, {'entity_id': 'DFU', 'other_ids': ['mesh:C535627', 'mim:140000'], 'entity_type': 'disease', 'entity': 'DFU'}], 'text': 'However, enabling autologous therapies developed from a patient-specific renewable community of cells count as advantages in gene therapy and editing methods, along with the development of pluripotent stem cells from patients with epidermolysis Another example of skin disease is diabetic foot ulcers, known as (DFU), which is a significant difficulty that often results in infection or even death.', 'text_sha256': 'c809338ff4eecce1e5831fec6cb2346fc98c85befcd29b09ec4cffd2002173a5'}, {'entities': [{'entity_id': 'mesenchymal', 'other_ids': ['CUI-less'], 'entity_type': 'cell_line', 'entity': 'mesenchymal'}, {'entity_id': 'mesenchymal stem cell', 'other_ids': ['CL:0000134'], 'entity_type': 'cell_type', 'entity': 'mesenchymal stem cell'}, {'entity_id': 'cells', 'other_ids': ['CUI-less'], 'entity_type': 'cell_type', 'entity': 'cells'}], 'text': 'The mesenchymal stem cell-based therapeutic method has shown effectiveness in wound treatment, presenting a theoretically systematic alternative by treating various microaerobic Base Material and The Interaction Damaged tissue repair entails the existence of cells capable of repairing the damaged tissue and the presence of a microenvironment that facilitates adequate tissue regeneration.', 'text_sha256': 'c809024aa7cf38135ee44ba4c6551890759bd1ce691778bb12ae99cb3bf9c809'}, {'entities': [{'entity_id': 'damaged', 'other_ids': ['mesh:D014947'], 'entity_type': 'disease', 'entity': 'damaged'}, {'entity_id': 'healthy tissue', 'other_ids': ['CUI-less'], 'entity_type': 'cell_type', 'entity': 'healthy tissue'}], 'text': 'In damaged tissue, the extracellular metric is often damaged, functionally disabled, or missing, while In healthy tissue, the ECM guides and Scaffolds are structures that include the conditions for cell retention and tissue regeneration and are used to solve this problem.', 'text_sha256': '64e76a6b4edec76b32a1c8516176f54c5f286f83a48fe903ad5f3625e395fd6f'}, {'entities': [{'entity_id': 'elastin', 'other_ids': ['NCBIGene:2006'], 'entity_type': 'gene', 'entity': 'elastin'}, {'entity_id': 'collagen', 'other_ids': ['NCBIGene:1280'], 'entity_type': 'gene', 'entity': 'collagen'}], 'text': 'Scaffolds may be either natural (decellularized ECM or enhanced elastin - or collagen gels) or synthetic (synthetic hydrogels or porous polymer scaffolds) [4].', 'text_sha256': 'a19fb3bf7aebb6a71b9b57786d6ecc8123c94e6b8281c6c2c6cc920026c83890'}, {'entities': [{'entity_id': 'Polycaprolactone', 'other_ids': ['CHEBI:60736'], 'entity_type': 'drug', 'entity': 'Polycaprolactone'}, {'entity_id': 'PCL', 'other_ids': ['CHEBI:60736'], 'entity_type': 'drug', 'entity': 'PCL'}, {'entity_id': 'polyglycolic acid', 'other_ids': ['CHEBI:53492'], 'entity_type': 'drug', 'entity': 'polyglycolic acid'}, {'entity_id': 'PGA', 'other_ids': ['mesh:D011454'], 'entity_type': 'drug', 'entity': 'PGA'}, {'entity_id': 'polyhydroxyalkanoate', 'other_ids': ['mesh:D054813'], 'entity_type': 'drug', 'entity': 'polyhydroxyalkanoate'}, {'entity_id': 'PHA', 'other_ids': ['CHEBI:34839'], 'entity_type': 'drug', 'entity': 'PHA'}, {'entity_id': 'polylactic acid', 'other_ids': ['CHEBI:53408'], 'entity_type': 'drug', 'entity': 'polylactic acid'}, {'entity_id': 'PLA', 'other_ids': ['CHEBI:53407'], 'entity_type': 'drug', 'entity': 'PLA'}], 'text': 'Polycaprolactone (PCL), polyglycolic acid (PGA), polyhydroxyalkanoate (PHA), and polylactic acid (PLA) are biodegradable polymers used in electrospinning.', 'text_sha256': 'd15ee5ffbda675bba81a95b0d1c76c6abd7406e6210a6b1fe3e7bc62ed78eb20'}, {'entities': [{'entity_id': 'MSC', 'other_ids': ['CL:0000134'], 'entity_type': 'cell_type', 'entity': 'MSC'}, {'entity_id': 'collagen peptide', 'other_ids': ['NCBIGene:1280'], 'entity_type': 'gene', 'entity': 'collagen peptide'}], 'text': 'MSC migration, proliferation, and osteogenic differentiation are improved by coating the scaffold with collagen peptide as an example.', 'text_sha256': 'd980a6af0e9d3a4484ce332f2800783c1a7b7301df5142e2cf600c57738b4344'}, {'entities': [{'entity_id': 'soft tissue cell types', 'other_ids': ['CUI-less'], 'entity_type': 'cell_type', 'entity': 'soft tissue cell types'}, {'entity_id': 'people', 'other_ids': ['NCBITaxon:9606'], 'entity_type': 'species', 'entity': 'people'}, {'entity_id': 'skin disorders', 'other_ids': ['mesh:D012871'], 'entity_type': 'disease', 'entity': 'skin disorders'}, {'entity_id': 'chronic wounds', 'other_ids': ['mesh:D002908'], 'entity_type': 'disease', 'entity': 'chronic wounds'}, {'entity_id': 'non-healing ulcers', 'other_ids': ['mesh:D014456'], 'entity_type': 'disease', 'entity': 'non-healing ulcers'}, {'entity_id': 'diabetic ulcers', 'other_ids': ['mesh:D017719'], 'entity_type': 'disease', 'entity': 'diabetic ulcers'}], 'text': 'As a result, bio-ink built with gelatin and natural polymers is compatible with various soft tissue cell types and can be combined with biological molecules such as proteins, growth factors, and Many people suffering from skin disorders such as chronic wounds, non-healing ulcers, and diabetic ulcers need skin repair and regeneration.', 'text_sha256': 'a92c0a7ae962d72da125eabba73d958c25eb8fef1afe88aca8fba9640bb4b37c'}, {'entities': [{'entity_id': 'collagen', 'other_ids': ['NCBIGene:1280'], 'entity_type': 'gene', 'entity': 'collagen'}, {'entity_id': 'fibroblasts', 'other_ids': ['CUI-less'], 'entity_type': 'cell_type', 'entity': 'fibroblasts'}, {'entity_id': 'collagenase enzymes', 'other_ids': ['NCBIGene:4312'], 'entity_type': 'gene', 'entity': 'collagenase enzymes'}, {'entity_id': 'collagen', 'other_ids': ['NCBIGene:1280'], 'entity_type': 'gene', 'entity': 'collagen'}, {'entity_id': 'fibroblasts', 'other_ids': ['CUI-less'], 'entity_type': 'cell_type', 'entity': 'fibroblasts'}, {'entity_id': 'mesenchymal stem cells', 'other_ids': ['CUI-less'], 'entity_type': 'cell_type', 'entity': 'mesenchymal stem cells'}], 'text': 'Fibrous, collagen fibers and fibroblasts On one side, by injecting collagenase enzymes into the fat, all of the collagen fibers and fibroblasts can be removed, leaving just the pure mesenchymal stem cells.', 'text_sha256': '31a6ae4fd46177618fe67811fdf6d56060909bac378568cab98d6ec696f948dd'}, {'entities': [{'entity_id': 'engineered', 'other_ids': ['CUI-less'], 'entity_type': 'cell_line', 'entity': 'engineered'}, {'entity_id': 'stem cell vascular fraction', 'other_ids': ['CUI-less'], 'entity_type': 'cell_type', 'entity': 'stem cell vascular fraction'}, {'entity_id': 'SVF', 'other_ids': ['CUI-less'], 'entity_type': 'cell_line', 'entity': 'SVF'}, {'entity_id': 'mesenchymal cells', 'other_ids': ['CUI-less'], 'entity_type': 'cell_type', 'entity': 'mesenchymal cells'}, {'entity_id': 'inflammatory cells', 'other_ids': ['CUI-less'], 'entity_type': 'cell_type', 'entity': 'inflammatory cells'}, {'entity_id': 'macrophage', 'other_ids': ['CL:0000235'], 'entity_type': 'cell_type', 'entity': 'macrophage'}, {'entity_id': '-monocyte', 'other_ids': ['CUI-less'], 'entity_type': 'cell_type', 'entity': '-monocyte'}, {'entity_id': 'fibroblasts', 'other_ids': ['CUI-less'], 'entity_type': 'cell_type', 'entity': 'fibroblasts'}, {'entity_id': 'mesenchymal cells', 'other_ids': ['CUI-less'], 'entity_type': 'cell_type', 'entity': 'mesenchymal cells'}], 'text': 'In the engineered stem cell vascular fraction (SVF), a pellet comprising mesenchymal cells, growth factors, inflammatory cells such as macrophage-monocyte, and fibroblasts, the mesenchymal cells are segregated from the other components through centrifugation.', 'text_sha256': '9164dc8d58cd90285401d302a03e671dd668150307ae27f85345bbd411713c2c'}, {'entities': [{'entity_id': 'mesenchymal stem cells', 'other_ids': ['CUI-less'], 'entity_type': 'cell_type', 'entity': 'mesenchymal stem cells'}, {'entity_id': 'fibroblasts', 'other_ids': ['CUI-less'], 'entity_type': 'cell_type', 'entity': 'fibroblasts'}, {'entity_id': 'collagen', 'other_ids': ['NCBIGene:1280'], 'entity_type': 'gene', 'entity': 'collagen'}], 'text': 'Placing mesenchymal stem cells in the target environment and supplying the required growth factors can result in the formation of fibroblasts, the production of collagen, and the reconstruction of the skin.', 'text_sha256': '6b9018fea8ca9fd50254e7e499d64c3ac115704f29bacbc566fb093fcf0284e1'}, {'entities': [{'entity_id': 'stem', 'other_ids': ['CUI-less'], 'entity_type': 'cell_line', 'entity': 'stem'}, {'entity_id': 'stem cell', 'other_ids': ['CL:0000034'], 'entity_type': 'cell_type', 'entity': 'stem cell'}, {'entity_id': 'stem cell', 'other_ids': ['CL:0000034'], 'entity_type': 'cell_type', 'entity': 'stem cell'}, {'entity_id': 'stem', 'other_ids': ['CUI-less'], 'entity_type': 'cell_line', 'entity': 'stem'}, {'entity_id': 'stem cell', 'other_ids': ['CL:0000034'], 'entity_type': 'cell_type', 'entity': 'stem cell'}], 'text': 'As previously stated, the stem cell condition is essential, as there is a risk of movement of the stem cell due to blood circulation and paracrine, which the stem cell will secrete and influence its environment.', 'text_sha256': '6f41867f3f6f6b038edb081b98fc2f9b03a6cb480d16fc3320d924ba44a7014f'}, {'entities': [{'entity_id': 'CD44 receptors', 'other_ids': ['NCBIGene:960'], 'entity_type': 'gene', 'entity': 'CD44 receptors'}, {'entity_id': \"skin'\", 'other_ids': ['CUI-less'], 'entity_type': 'cell_type', 'entity': \"skin'\"}, {'entity_id': 'collagen', 'other_ids': ['NCBIGene:1280'], 'entity_type': 'gene', 'entity': 'collagen'}], 'text': \"The scaffold containing the mesenchymal and critical growth factors into the desired cell will, for example, activate the CD44 receptors on the skin's fibroblasts, increasing collagen output.\", 'text_sha256': 'f3d6fc91d52f395e639325b188564d7f20cb41edf31cc080ff1d4bff927976dc'}]\n",
      "Wall time: 3min 33s\n"
     ]
    }
   ],
   "source": [
    "%%time\n",
    "#Candidate sentence where there is more than a single entity\n",
    "present_candidates = [s for s in parsed_entities if (s.get('entities')) and (len(s['entities']) > 1)]\n",
    "print(present_candidates)\n",
    "predicted_rels = []\n",
    "\n",
    "for c in present_candidates:\n",
    "    combinations = itertools.combinations([{'name': x['entity'], 'id': x['entity_id']} for x in c['entities']], 2)\n",
    "    \n",
    "    for combination in list(combinations):\n",
    "        try:\n",
    "            ranked_rels = extractor.rank(text=c['text'].replace(\",\", \"\"), head=combination[0]['name'], tail=combination[1]['name'])\n",
    "            \n",
    "            # Define threshold for the most probable relation\n",
    "            if ranked_rels[0][1] > 0.85:\n",
    "                predicted_rels.append({\n",
    "                    'head': combination[0]['id'],\n",
    "                    'tail': combination[1]['id'],\n",
    "                    'type': ranked_rels[0][0],\n",
    "                    'source': c['text_sha256']\n",
    "                })\n",
    "        except Exception as e:\n",
    "            # Handle exceptions appropriately\n",
    "            pass"
   ]
  },
  {
   "cell_type": "code",
   "execution_count": 179,
   "id": "e165d460",
   "metadata": {},
   "outputs": [
    {
     "name": "stdout",
     "output_type": "stream",
     "text": [
      "Predicted relations:\n"
     ]
    }
   ],
   "source": [
    "print(\"Predicted relations:\")"
   ]
  },
  {
   "cell_type": "code",
   "execution_count": 178,
   "id": "3c0b84fc",
   "metadata": {},
   "outputs": [
    {
     "name": "stdout",
     "output_type": "stream",
     "text": [
      "[{'entities': [{'entity_id': 'tumor', 'other_ids': ['mesh:D009369'], 'entity_type': 'disease', 'entity': 'tumor'}, {'entity_id': 'tumors', 'other_ids': ['mesh:D009369'], 'entity_type': 'disease', 'entity': 'tumors'}, {'entity_id': 'tumor', 'other_ids': ['mesh:D009369'], 'entity_type': 'disease', 'entity': 'tumor'}], 'text': ':13 Assessment of tumor growth behavior and invasive patterns of tumors likewise changes as a function of dimension, resulting in the use of 3D CPM simulations in the tumor modelling field as well.?', 'text_sha256': '6402458a476479be9942d8ea4c6a13d914e6f4ee3e0207dd0979cbc470f3b351'}, {'entities': [{'entity_id': 'GPUs', 'other_ids': ['CUI-less'], 'entity_type': 'DNA', 'entity': 'GPUs'}, {'entity_id': 'GPU', 'other_ids': ['CUI-less'], 'entity_type': 'DNA', 'entity': 'GPU'}], 'text': 'propose a similar scheme for GPUs:! because the sections are much smaller than a cell on the GPU, they use a per-cell locking mechanism to prevent simultaneous updates of a cell.', 'text_sha256': 'da84a56e5f4b986c9f7ea62f4e05526fe4f075d4da11eff1d86e108a4b9c060e'}, {'entities': [{'entity_id': 'highly', 'other_ids': ['CUI-less'], 'entity_type': 'cell_line', 'entity': 'highly'}, {'entity_id': 'highly motile cells', 'other_ids': ['CUI-less'], 'entity_type': 'cell_type', 'entity': 'highly motile cells'}], 'text': 'We choose spatial and temporal simulation resolutions that allow reasonably accurate representations of highly motile cells within tissues.', 'text_sha256': 'a529526f206f6e72f7191e0f645df299d74fa876de2165944862ace113c7ef74'}, {'entities': [{'entity_id': 'Lymphocytes', 'other_ids': ['CUI-less'], 'entity_type': 'cell_type', 'entity': 'Lymphocytes'}, {'entity_id': 'nucleated cells', 'other_ids': ['CUI-less'], 'entity_type': 'cell_type', 'entity': 'nucleated cells'}, {'entity_id': 'B cells', 'other_ids': ['CUI-less'], 'entity_type': 'cell_type', 'entity': 'B cells'}, {'entity_id': 'T cells', 'other_ids': ['CUI-less'], 'entity_type': 'cell_type', 'entity': 'T cells'}], 'text': 'Lymphocytes are among the smallest nucleated cells in the mammalian body at 8-10um diameter for B cells and T cells.', 'text_sha256': '83e5011ebc9e7002a2f1b2f95115f4527cfa17f2f0cd6deece57c8eff45e8a0e'}, {'entities': [{'entity_id': 'motile cells', 'other_ids': ['CUI-less'], 'entity_type': 'cell_type', 'entity': 'motile cells'}, {'entity_id': 'Act', 'other_ids': ['NCBIGene:12', '71', '72', '9457', '345651', '11332', '440915', '641455'], 'entity_type': 'gene', 'entity': 'Act'}], 'text': 'Here we perform a multidimensional grid search for parameters that yield motile cells using the Act extension of the CPM; a modest single parameter grid search where 10 values are tried takes 5.9 seconds; larger grid searches take exponentially more time as function of parameters searched, with a five parameter search with 30 values is extrapolated to 1.1 years of wall-clock time.', 'text_sha256': '7169513414939bcc8d30caa57e70db4f1bd0a179eaa3f91291cea1d9df21de9d'}, {'entities': [{'entity_id': 'murine', 'other_ids': ['NCBITaxon:10090'], 'entity_type': 'species', 'entity': 'murine'}, {'entity_id': 'tumor', 'other_ids': ['mesh:D009369'], 'entity_type': 'disease', 'entity': 'tumor'}, {'entity_id': 'avascular', 'other_ids': ['CUI-less'], 'entity_type': 'cell_line', 'entity': 'avascular'}, {'entity_id': 'avascular tumor spheroid', 'other_ids': ['CUI-less'], 'entity_type': 'cell_type', 'entity': 'avascular tumor spheroid'}], 'text': 'per voxel and second per simulation step, or Monte Carlo Step (MCS), as our simulation resolutions, corresponding to Beltman et al.9 To create realistically large models of, for example, a complete murine Lymph Node (LN), or scale a tumor model to the size of an avascular tumor spheroid,? experiments at mm scale would be needed.', 'text_sha256': 'da2d7061082f53d7d5f85348fd5af1a2110e720a49eafbbc04d1730c1b506416'}, {'entities': [{'entity_id': 'motile cells', 'other_ids': ['CUI-less'], 'entity_type': 'cell_type', 'entity': 'motile cells'}, {'entity_id': 'T cells', 'other_ids': ['CUI-less'], 'entity_type': 'cell_type', 'entity': 'T cells'}, {'entity_id': 'cancer', 'other_ids': ['mesh:D009369'], 'entity_type': 'disease', 'entity': 'cancer'}], 'text': 'Such experiments are sufficient to see minimal movement of motile cells such as T cells and can capture organ compartments such as a LN paracortical T cell zone, or a micrometastasis for cancer modelling.', 'text_sha256': '486fd569275f6ac9297274271316fc34e1df45bd5db9583a2f0b1bbca2b5f33b'}, {'entities': [{'entity_id': 'simulated', 'other_ids': ['CUI-less'], 'entity_type': 'cell_line', 'entity': 'simulated'}, {'entity_id': 'simulated cells', 'other_ids': ['CUI-less'], 'entity_type': 'cell_type', 'entity': 'simulated cells'}], 'text': 'The CPM also updates information outside of the grid, such as sizes of simulated cells.', 'text_sha256': 'bd4bd7037387ff290f2476b2eb6d484b9919f3c42a809c020f8deed560a85ae5'}, {'entities': [{'entity_id': 'GPUs', 'other_ids': ['CUI-less'], 'entity_type': 'DNA', 'entity': 'GPUs'}, {'entity_id': 'GPUs', 'other_ids': ['CUI-less'], 'entity_type': 'DNA', 'entity': 'GPUs'}], 'text': 'Otherwise, due to atomic updating, our scheme still gives strong guarantees on tracked data being correct  for example, cell sizes will be tracked correctly  and we cache local da F our scheme on rea GPUs, memory access almost always prevents easy use of a GPUs caching hierarchy.', 'text_sha256': 'ba691953cd690239e1d1770283525f049095cb7cbd08551c25eb9efae95b40a6'}, {'entities': [{'entity_id': 'Yaun', 'other_ids': ['CHEBI:74879'], 'entity_type': 'drug', 'entity': 'Yaun'}, {'entity_id': 'Xeon 2', 'other_ids': ['mesh:D003520'], 'entity_type': 'drug', 'entity': 'Xeon 2'}], 'text': 'Voow = (3; 3} (Kumn= 11) (Yaun= 13} (lel= 4) 4 ee [Xeon 2= +4!', 'text_sha256': 'c4d1f1cb9c89077115125f05cd223b04f27bcc496120184d11642161ed8f0f38'}, {'entities': [{'entity_id': 'Yeu', 'other_ids': ['CHEBI:74883'], 'entity_type': 'drug', 'entity': 'Yeu'}, {'entity_id': 'Be', 'other_ids': ['CHEBI:30503'], 'entity_type': 'drug', 'entity': 'Be'}, {'entity_id': 'Xon', 'other_ids': ['CHEBI:49957'], 'entity_type': 'drug', 'entity': 'Xon'}, {'entity_id': 'Van', 'other_ids': ['CHEBI:27698'], 'entity_type': 'drug', 'entity': 'Van'}, {'entity_id': 'Iel', 'other_ids': ['CHEBI:51468'], 'entity_type': 'drug', 'entity': 'Iel'}, {'entity_id': 'Xeun', 'other_ids': ['CHEBI:49956'], 'entity_type': 'drug', 'entity': 'Xeun'}, {'entity_id': 'GPU', 'other_ids': ['CUI-less'], 'entity_type': 'DNA', 'entity': 'GPU'}], 'text': 'Yeu = +2 | lel= +1 | Be] Xon= 15) (Van= 15) (Iel=5) [new = Xeun/@l = 3; Yoow = Yeun/l#] = 3) E_ per GPU region border sync ~-7--- global simulation barrier SS caput sizessyne pu |e] = 23 je| = 29 |e| = 23 |e| = 29 [Je|:= +4 Jel: +14=he!', 'text_sha256': 'ae59771258465c9aaef1ebfcbaba302ebcd99572cd0c9cd6db5055975b6d8672'}, {'entities': [{'entity_id': 'GPU', 'other_ids': ['CUI-less'], 'entity_type': 'DNA', 'entity': 'GPU'}, {'entity_id': 'GPUs', 'other_ids': ['CUI-less'], 'entity_type': 'DNA', 'entity': 'GPUs'}], 'text': '(E) A multi-GPU execution scheme, where regions of the simulation are assigned to different GPUs.', 'text_sha256': '1b05ef5f5abcbda05219b31c5e5389836ef851463d2b9c514768df5087d69c43'}, {'entities': [{'entity_id': 'CPMs', 'other_ids': ['CUI-less'], 'entity_type': 'DNA', 'entity': 'CPMs'}, {'entity_id': 'CPMs', 'other_ids': ['CUI-less'], 'entity_type': 'DNA', 'entity': 'CPMs'}], 'text': 'Simulation parameters can be found Aligning the lattice update statistics of parallel CPMs to serial CPMs Our novel parallel execution scheme guarantees simulation data consistency, but drastically changes the way the simulation lattice is updated.', 'text_sha256': '097e8796fa2cf8309637f51462787f77ebe3f36af8358cdaec15f41d850bb02a'}, {'entities': [{'entity_id': 'GPU', 'other_ids': ['CUI-less'], 'entity_type': 'DNA', 'entity': 'GPU'}, {'entity_id': 'GPUs', 'other_ids': ['CUI-less'], 'entity_type': 'DNA', 'entity': 'GPUs'}], 'text': 'Testing our multi-GPU scheme (Figure 2E, Methods) in the same scenario achieved a further 2.3x speedup by distributing the simulation across four GPUs (Figure 6B).', 'text_sha256': '980c40aac2abb9f7871648c00b71399d4d8f361ccef2c9a38e2cca18588493d2'}, {'entities': [{'entity_id': 'Tissue resident memory T cells', 'other_ids': ['CUI-less'], 'entity_type': 'cell_type', 'entity': 'Tissue resident memory T cells'}, {'entity_id': 'Trms', 'other_ids': ['CUI-less'], 'entity_type': 'cell_line', 'entity': 'Trms'}, {'entity_id': 'Trms', 'other_ids': ['CUI-less'], 'entity_type': 'cell_type', 'entity': 'Trms'}, {'entity_id': 'malaria', 'other_ids': ['mesh:D008288', 'mim:609148'], 'entity_type': 'disease', 'entity': 'malaria'}], 'text': 'Tissue resident memory T cells (Trms) are confined to specific organs, where they sample their envi- ronment for signs of disease+  in particular, liver Trms are key in providing sterilising immunity for malaria.', 'text_sha256': '434c9feb9b7ce29d8e4edf8d980046226f86c6c133e5bb51a44ec28b31d4e5d6'}, {'entities': [{'entity_id': 'Trms', 'other_ids': ['CUI-less'], 'entity_type': 'cell_type', 'entity': 'Trms'}, {'entity_id': 'malaria', 'other_ids': ['mesh:D008288', 'mim:609148'], 'entity_type': 'disease', 'entity': 'malaria'}, {'entity_id': 'Trms', 'other_ids': ['CUI-less'], 'entity_type': 'cell_type', 'entity': 'Trms'}], 'text': '? Trms display a distinct motility pattern in the liver, and efficacy of malaria clearing depends on the number of Trms present.', 'text_sha256': '5b439bfb384924b8cb12f3c04a766e09d689a00871dc5a277693631591e4320b'}, {'entities': [{'entity_id': 'liver sinusoids', 'other_ids': ['CUI-less'], 'entity_type': 'cell_type', 'entity': 'liver sinusoids'}, {'entity_id': 'Trms', 'other_ids': ['NCBIGene:55687'], 'entity_type': 'gene', 'entity': 'Trms'}, {'entity_id': 'Trms', 'other_ids': ['NCBIGene:55687'], 'entity_type': 'gene', 'entity': 'Trms'}], 'text': '? We constructed a 3D simulation environment of liver sinusoids  capil- laries that Trms reside in and migrate through  and combined it with a polarized cell motility model to represent the Trms (Figure 7B).', 'text_sha256': '8327115ade4cdc048a729ab1b3d4b12d86b7341efab9be1935ad292c3df8f81f'}, {'entities': [{'entity_id': 'Trm population', 'other_ids': ['CUI-less'], 'entity_type': 'cell_line', 'entity': 'Trm population'}, {'entity_id': 'Trm', 'other_ids': ['NCBIGene:55687'], 'entity_type': 'gene', 'entity': 'Trm'}, {'entity_id': 'exploring cells', 'other_ids': ['CUI-less'], 'entity_type': 'cell_type', 'entity': 'exploring cells'}], 'text': '? As can be expected, we found that liver exploration by the Trm population increased with the number of exploring cells, and with the amount of exploration time (Figure 7C).', 'text_sha256': '10d9a750f17ffc9d2faf10d41ebf31d2f01934a64333630db6fc10e12634e1a0'}, {'entities': [{'entity_id': 'Trms', 'other_ids': ['NCBIGene:55687'], 'entity_type': 'gene', 'entity': 'Trms'}, {'entity_id': 'Trm', 'other_ids': ['NCBIGene:55687'], 'entity_type': 'gene', 'entity': 'Trm'}, {'entity_id': 'Trms', 'other_ids': ['NCBIGene:55687'], 'entity_type': 'gene', 'entity': 'Trms'}], 'text': 'Thus, if Trms can help each other to move, a larger Trm population would screen the environment more efficiently than expected from the Notably, the mean speed of Trms peak at ~10.5 um/min (Figure 7F), matching average speeds in our lymph node simulations  but only at densities where the arrest coefficient is close to 0.', 'text_sha256': '157928dacf537c7dce7dc02c86f3c3f43a333425b048acfa3ffb3db6253f381a'}, {'entities': [{'entity_id': 'T cell collective', 'other_ids': ['CUI-less'], 'entity_type': 'cell_type', 'entity': 'T cell collective'}, {'entity_id': 'T cells', 'other_ids': ['CUI-less'], 'entity_type': 'cell_type', 'entity': 'T cells'}, {'entity_id': 'presenting cells', 'other_ids': ['CUI-less'], 'entity_type': 'cell_type', 'entity': 'presenting cells'}], 'text': 'A T cell collective moves robustly in a realistic, organ-scale model of the lymph In LNs, millions of T cells move in search of antigen-presenting cells,?', 'text_sha256': '0dc8dc6d258b92df132ac157ffd0ab78075fb0b1ed67d5ba973a4fa0d104b89b'}, {'entities': [{'entity_id': 'LN T cell', 'other_ids': ['CUI-less'], 'entity_type': 'cell_type', 'entity': 'LN T cell'}, {'entity_id': 'LN', 'other_ids': ['CUI-less'], 'entity_type': 'cell_type', 'entity': 'LN'}], 'text': 'Indeed, many models of LN T cell dynamics already exist, but they were often limited in either cell count and simulation volume, or in realism of cell morphology and LN environment.', 'text_sha256': 'd9ee5c44f1b57b8f7851bc57c60e18483a1f6e6d2307eb9589ba2737aca89ade'}, {'entities': [{'entity_id': 'T cell', 'other_ids': ['CL:0000084'], 'entity_type': 'cell_type', 'entity': 'T cell'}, {'entity_id': 'T cells', 'other_ids': ['CUI-less'], 'entity_type': 'cell_type', 'entity': 'T cells'}], 'text': 'We next investigated organ-scale collective T cell motility by scaling up our simulated volume to 1mm diameter, now containing 3,359,752 T cells (Figure 9A).', 'text_sha256': '18e60f06cd54619eb3f7f2a65b4ef5d265611a1cf2555921a9264e26ce4c1a3a'}, {'entities': [{'entity_id': 'large', 'other_ids': ['CUI-less'], 'entity_type': 'cell_line', 'entity': 'large'}, {'entity_id': 'cell collectives', 'other_ids': ['CUI-less'], 'entity_type': 'cell_line', 'entity': 'cell collectives'}], 'text': 'We hope that this will inspire further research on large cell collectives  integrating various sources of empirical data, at a high level of realism, and at realistic scale.', 'text_sha256': '2606b63914a1e8def2e6e294b030195b9192670d20b33030b3ce5576889e9e93'}, {'entities': [{'entity_id': 'GPU', 'other_ids': ['CUI-less'], 'entity_type': 'DNA', 'entity': 'GPU'}, {'entity_id': 'GPU', 'other_ids': ['CUI-less'], 'entity_type': 'DNA', 'entity': 'GPU'}], 'text': 'To achieve this, we designed novel schemes for lattice work splitting and synchronization, maintaining global state, efficient GPU memory transfer, and multi-GPU execution.', 'text_sha256': 'ed7399482fd230853c2a99861d079158eefc2a24e40233d02bc444469cba7cb8'}, {'entities': [{'entity_id': 'GPU', 'other_ids': ['CUI-less'], 'entity_type': 'DNA', 'entity': 'GPU'}, {'entity_id': 'GPU', 'other_ids': ['CUI-less'], 'entity_type': 'DNA', 'entity': 'GPU'}], 'text': 'Through accelerating the CPM on accessible GPU hardware, we have increased the range of feasible simulation sizes  because our scheme fully utilises all GPU cores, simulation size is now mostly limited by the available GPU memory.', 'text_sha256': '2188492b1181bd920833b9d78927909245ea3cede18b48c0b1c40e9a9cb5790c'}, {'entities': [{'entity_id': 'GPU', 'other_ids': ['CUI-less'], 'entity_type': 'DNA', 'entity': 'GPU'}, {'entity_id': 'GPU', 'other_ids': ['CUI-less'], 'entity_type': 'DNA', 'entity': 'GPU'}], 'text': 'As memory per GPU increases, our scheme wi ti-GPU prototype scheme will allow for further increase of simulation volume.', 'text_sha256': '4346c007aec8f939278916e2502b9ad0a2f93e3ae971f91735629ca6f53d9ab3'}, {'entities': [{'entity_id': 'GPU', 'other_ids': ['CUI-less'], 'entity_type': 'DNA', 'entity': 'GPU'}, {'entity_id': 'GPU', 'other_ids': ['CUI-less'], 'entity_type': 'DNA', 'entity': 'GPU'}], 'text': 'Our to include inter-GPU communication over MPI,* allowing ding block for a GPU cluster-based version of the CPM  her to lcm?', 'text_sha256': 'de977e9f4072abb5c0cc73e259e0df8ff0c30599eb3c1f263c3161bedb05644a'}, {'entities': [{'entity_id': 'CPM', 'other_ids': ['CUI-less'], 'entity_type': 'cell_line', 'entity': 'CPM'}, {'entity_id': 'T cells', 'other_ids': ['CUI-less'], 'entity_type': 'cell_type', 'entity': 'T cells'}, {'entity_id': 'E i F cells', 'other_ids': ['CUI-less'], 'entity_type': 'cell_line', 'entity': 'E i F cells'}], 'text': 'Similar approaches to the one shown here could be useful for parallelisation of CPM variants or other sequential lattice-based models.  A B mmm 100 yum explored space @ T cells S 10 1000 100000 E i F cells @ 0.6 E so 10 1000 100000 10 1000 100000 a motile state.', 'text_sha256': 'dcaf42980bd9c13dbf0de14a8d9700e1581c23480de9feaa8563858af13f1b57'}, {'entities': [{'entity_id': 'fibroblastic', 'other_ids': ['CUI-less'], 'entity_type': 'cell_line', 'entity': 'fibroblastic'}, {'entity_id': 'fibroblastic reticular cells', 'other_ids': ['CUI-less'], 'entity_type': 'cell_type', 'entity': 'fibroblastic reticular cells'}, {'entity_id': 'murine', 'other_ids': ['NCBITaxon:10090'], 'entity_type': 'species', 'entity': 'murine'}], 'text': '(A) A 130x130x110 um* scan of the stromal structure (fibroblastic reticular cells) in the paracortical T cell zone of a murine LN.', 'text_sha256': '15d6999bcea87747d2b68493d2387a39214728ceed2054cf71c3135e115eb411'}, {'entities': [{'entity_id': 'T cells', 'other_ids': ['CUI-less'], 'entity_type': 'cell_type', 'entity': 'T cells'}, {'entity_id': 'stromal cells', 'other_ids': ['CUI-less'], 'entity_type': 'cell_type', 'entity': 'stromal cells'}, {'entity_id': 'T cell', 'other_ids': ['CL:0000084'], 'entity_type': 'cell_type', 'entity': 'T cell'}], 'text': '(C) Increased adhesion of T cells to stromal cells causes the speed distributions to be more right-skewed (top) and match real data more closely (bot: Increased adhesion can slow T cell paths non-uniformly by creating longer and/or more frequent pauses (red) but does not prevent rapid motion altogether.', 'text_sha256': 'daf5619109b27dc8fa0245070510cae82a859358b415e987ad5781fe805c4be5'}, {'entities': [{'entity_id': 'simulated cells', 'other_ids': ['CUI-less'], 'entity_type': 'cell_type', 'entity': 'simulated cells'}, {'entity_id': 'T cells', 'other_ids': ['CUI-less'], 'entity_type': 'cell_type', 'entity': 'T cells'}, {'entity_id': 'stromal cells', 'other_ids': ['CUI-less'], 'entity_type': 'cell_type', 'entity': 'stromal cells'}], 'text': 'CPM parameter settings can be found in  3,359,752 simulated cells O mins 40 mins 80 mins 120 mins D 06 5 0.6 0 30 60 90 120 30 100 300 1000 time (in min) scale (in um) high adhesion low adhesion LN simulation at 1mm diameter containing 3,359,752 T cells and stromal cells (grey; Figure 8A).', 'text_sha256': '5b371a9c2f70bfcfb855f4a275567f153c14669706b2b35bbfe1045f6ec29147'}, {'entities': [{'entity_id': 'simulated cells', 'other_ids': ['CUI-less'], 'entity_type': 'cell_type', 'entity': 'simulated cells'}, {'entity_id': 'red', 'other_ids': ['CUI-less'], 'entity_type': 'cell_type', 'entity': 'red'}, {'entity_id': 'green cells', 'other_ids': ['CUI-less'], 'entity_type': 'cell_type', 'entity': 'green cells'}], 'text': 'For clearer visualization, only 10% of the simulated cells are shown, and red and green cells are equally param- eterized although coloured differently.', 'text_sha256': 'f9b90cbfd6277981c0e4a017041cdc91368be0262411415df9d4070ace783eb7'}, {'entities': [{'entity_id': 'H', 'other_ids': ['CHEBI:29979'], 'entity_type': 'drug', 'entity': 'H'}, {'entity_id': 'Te', 'other_ids': ['CHEBI:30455'], 'entity_type': 'drug', 'entity': 'Te'}, {'entity_id': 'Te', 'other_ids': ['CHEBI:30455'], 'entity_type': 'drug', 'entity': 'Te'}], 'text': 'The H =~ Ip(ox),r(0))(1  84:,0;) +  > Avotume(Te)(V (0)  Veargot(Te))?', 'text_sha256': '37478cbdc8d07cbb426e6b2b6eb6d590bceab062675ef234c75c1af741ea55b3'}, {'entities': [{'entity_id': 'lattice sites', 'other_ids': ['CUI-less'], 'entity_type': 'DNA', 'entity': 'lattice sites'}, {'entity_id': 'cell type', 'other_ids': ['CUI-less'], 'entity_type': 'cell_type', 'entity': 'cell type'}], 'text': '(1) as its Hamiltonian, with i, 7 being possible neighbour locations in the lattice, 7; the cell present at location i, T is the type of a particular cell, 5 is the Kronecker delta, V(c) is the number of lattice sites a cell o occupies, and Ayolume(T) how strongly a volume constraint contributes to the Hamiltonian for a particular cell type.', 'text_sha256': 'ea8e0a9642c9f1ee60d8e6045c5903c5335588d961fcb92feaaf13dfaa942d69'}, {'entities': [{'entity_id': 'MCS', 'other_ids': ['CUI-less'], 'entity_type': 'DNA', 'entity': 'MCS'}, {'entity_id': 'cell type T', 'other_ids': ['CUI-less'], 'entity_type': 'cell_type', 'entity': 'cell type T'}, {'entity_id': 'MCSs', 'other_ids': ['CUI-less'], 'entity_type': 'DNA', 'entity': 'MCSs'}], 'text': 'The vector ,,, is the persistence direction of cell o at time t, which is updated iteratively at every MCS with ey Xo ~~ X, tAt a Dot = (1 = pr) S = + flr Pot1s (6) Pot = 7 (7) Here ju, is the strength of directional persistence for cell type T, Xot is the centroid location of cell o at time t and At is the number of MCSs we look back for to determine the current direction of a cell.', 'text_sha256': '6aabf06e36c0a99a7b029a584e3dccd565e802edfd896f09ad26b09eb0560ba6'}, {'entities': [{'entity_id': 'CPM', 'other_ids': ['CUI-less'], 'entity_type': 'DNA', 'entity': 'CPM'}, {'entity_id': 'CUDA', 'other_ids': ['CUI-less'], 'entity_type': 'DNA', 'entity': 'CUDA'}], 'text': 'Our CPM was implemented using CUDA; concepts equivalent to ones described here exist in non-CUDA GPU hardware.', 'text_sha256': 'f2e21984ad3f232457607a3c19a2eba546e1279ea01a5ba34e04ee5414921f5a'}, {'entities': [{'entity_id': 'TB', 'other_ids': ['CUI-less'], 'entity_type': 'DNA', 'entity': 'TB'}, {'entity_id': 'checkerboard sections', 'other_ids': ['CUI-less'], 'entity_type': 'DNA', 'entity': 'checkerboard sections'}, {'entity_id': 'coalesced reads', 'other_ids': ['CUI-less'], 'entity_type': 'RNA', 'entity': 'coalesced reads'}], 'text': 'Each TB determines which checkerboard sections are active in its region; active sections are cached in shared memory using coalesced reads.', 'text_sha256': '620fea1aea5e36382f59d5ccea3ab9bc8690a6dfbfad1ea33d6c2785a3003ac1'}, {'entities': [{'entity_id': 'cell ids', 'other_ids': ['CUI-less'], 'entity_type': 'DNA', 'entity': 'cell ids'}, {'entity_id': 'GPU', 'other_ids': ['CUI-less'], 'entity_type': 'DNA', 'entity': 'GPU'}], 'text': 'A regions lattice data, such as the cell ids, are sent to each GPU, with an additional border layer.', 'text_sha256': '506cc2b2b26e8709d1770a11340aaf87a1a07d61fe2dc688c3a8b5de7bd2044f'}, {'entities': [{'entity_id': 'GPU', 'other_ids': ['CUI-less'], 'entity_type': 'DNA', 'entity': 'GPU'}, {'entity_id': 'GPU', 'other_ids': ['CUI-less'], 'entity_type': 'DNA', 'entity': 'GPU'}], 'text': 'Global variables such as cell sizes are tracked on each GPU as deltas of the value since last inter-GPU data synchronisation.', 'text_sha256': '2226bf114c1d42ae80ea652deea924a8bcdd1cc878908121cda7fce3844922bb'}, {'entities': [{'entity_id': 'GPUs', 'other_ids': ['CUI-less'], 'entity_type': 'DNA', 'entity': 'GPUs'}, {'entity_id': 'GPU', 'other_ids': ['CUI-less'], 'entity_type': 'DNA', 'entity': 'GPU'}], 'text': 'Every four MCSs, these deltas are gathered from all GPUs, deltas are integrated, and updated values distributed to each GPU.', 'text_sha256': 'ca506f059405e970b384b3536485e576032b1eee46d60dcb76ed855cf4914c9e'}, {'entities': [{'entity_id': 'GPU', 'other_ids': ['CUI-less'], 'entity_type': 'DNA', 'entity': 'GPU'}, {'entity_id': 'GPU', 'other_ids': ['CUI-less'], 'entity_type': 'DNA', 'entity': 'GPU'}, {'entity_id': 'GPU', 'other_ids': ['CUI-less'], 'entity_type': 'DNA', 'entity': 'GPU'}, {'entity_id': 'GPU', 'other_ids': ['CUI-less'], 'entity_type': 'DNA', 'entity': 'GPU'}, {'entity_id': 'GPU', 'other_ids': ['CUI-less'], 'entity_type': 'DNA', 'entity': 'GPU'}], 'text': 'Multi-GPU speedup is mostly hampered by frequent or slow inter-GPU communication; inter-GPU synchronization after every MCS negates most speedup, and a faster GPU-to-GPU interlink would likely increase performance.', 'text_sha256': 'f05976bfd3f817b4b7bd4d399c5dc4647805373c9a74842e7d0b965bbe0cf36c'}, {'entities': [{'entity_id': 'CCL19', 'other_ids': ['NCBIGene:6363'], 'entity_type': 'gene', 'entity': 'CCL19'}, {'entity_id': 'EYFP', 'other_ids': ['NCBIGene:1969', '10306'], 'entity_type': 'gene', 'entity': 'EYFP'}, {'entity_id': 'mice', 'other_ids': ['NCBITaxon:10095'], 'entity_type': 'species', 'entity': 'mice'}, {'entity_id': 'paraformaldehyde', 'other_ids': ['mesh:C003043'], 'entity_type': 'drug', 'entity': 'paraformaldehyde'}, {'entity_id': 'PFA', 'other_ids': ['CHEBI:60594'], 'entity_type': 'drug', 'entity': 'PFA'}], 'text': 'Imaging of thick lymph node sections Naive inguinal LNs were harvested from CCL19-EYFP mice and fixed with 4% paraformaldehyde (PFA, Electron Microscopy Sciences) for 1 hour at 4C.', 'text_sha256': '346a47e2d40d55e5e63b4363981ad07a5e154b27d7f5737e30f6c3dd8cdb3d19'}, {'entities': [{'entity_id': 'BSA', 'other_ids': ['NCBIGene:3198'], 'entity_type': 'gene', 'entity': 'BSA'}, {'entity_id': 'Triton X-100', 'other_ids': ['mesh:D017830'], 'entity_type': 'drug', 'entity': 'Triton X-100'}, {'entity_id': 'rabbit', 'other_ids': ['NCBITaxon:9986'], 'entity_type': 'species', 'entity': 'rabbit'}, {'entity_id': 'anti-GFP Ab', 'other_ids': ['NCBIGene:2994'], 'entity_type': 'gene', 'entity': 'anti-GFP Ab'}, {'entity_id': 'Tween-20', 'other_ids': ['mesh:D011136'], 'entity_type': 'drug', 'entity': 'Tween-20'}], 'text': 'LN sections were subsequently immersed in a Special Wash Buffer (Baxter water, 0.2% BSA, 10% 10X PBS, 0.2% Tween- 20, 0.2% Triton X-100, 0.2% 10% SDS) at 4C overnight, followed by staining with a rabbit anti-GFP Ab (Thermo Scientific, 1:100, diluted in blocking buffer made with Baxter water, 0.2% BSA, 10% 10X PBS, 0.1% Tween-20, 0.2% 10% SDS) at 4C for three days.', 'text_sha256': '56645c6f9aacc46ba6e34478937e3354c8e8c560310aac771e2c95efb73c0a60'}, {'entities': [{'entity_id': 'AlexaFluor 647', 'other_ids': ['mesh:C569686'], 'entity_type': 'drug', 'entity': 'AlexaFluor 647'}, {'entity_id': 'anti-CD31', 'other_ids': ['NCBIGene:5175'], 'entity_type': 'gene', 'entity': 'anti-CD31'}, {'entity_id': 'rat', 'other_ids': ['NCBITaxon:10116'], 'entity_type': 'species', 'entity': 'rat'}, {'entity_id': 'mice', 'other_ids': ['NCBITaxon:10095'], 'entity_type': 'species', 'entity': 'mice'}], 'text': 'Imaging of liver sinusoids For whole-liver imaging, AlexaFluor 647 conjugated anti-CD31 rat monoclonal antibody (Biolegend) was intravenously injected into wild-type C57BL/6 mice at 5ug for 15 minutes prior to harvesting the liver.', 'text_sha256': 'a99b5c33722d763d6edc0adf5c7808b2192d22bc8e7df7f789836b5be1d87af7'}, {'entities': [{'entity_id': 'gpu', 'other_ids': ['CUI-less'], 'entity_type': 'DNA', 'entity': 'gpu'}, {'entity_id': 'cpm', 'other_ids': ['CUI-less'], 'entity_type': 'DNA', 'entity': 'cpm'}], 'text': 'GPU CPM simulation code is available on GitHub at https://github.com/shabaz/gpu-cpm and is made available under the GNU General Public License, version 3.', 'text_sha256': '66cd7d312365a747e0d302530bab35d93e007ff8cc2ec225851e02abfeea02c9'}]\n"
     ]
    }
   ],
   "source": [
    "#------------------------------------text_2\n",
    "#Candidate sentence where there is more than a single entity\n",
    "present_candidates1 = [s for s in parsed_entities1 if (s.get('entities')) and (len(s['entities']) > 1)]\n",
    "print(present_candidates1)\n",
    "predicted_rels1 = []\n",
    "\n",
    "for c in present_candidates1:\n",
    "    combinations1 = itertools.combinations([{'name': x['entity'], 'id': x['entity_id']} for x in c['entities']], 2)\n",
    "    \n",
    "    for combination1 in list(combinations1):\n",
    "        try:\n",
    "            ranked_rels1 = extractor.rank(text=c['text'].replace(\",\", \"\"), head=combination1[0]['name'], tail=combination1[1]['name'])\n",
    "            \n",
    "            # Define threshold for the most probable relation\n",
    "            if ranked_rels1[0][1] > 0.85:\n",
    "                predicted_rels1.append({\n",
    "                    'head': combination1[0]['id'],\n",
    "                    'tail': combination1[1]['id'],\n",
    "                    'type': ranked_rels1[0][0],\n",
    "                    'source': c['text_sha256']\n",
    "                })\n",
    "        except Exception as e:\n",
    "            # Handle exceptions appropriately\n",
    "            pass"
   ]
  },
  {
   "cell_type": "code",
   "execution_count": 180,
   "id": "3f35063e",
   "metadata": {},
   "outputs": [
    {
     "name": "stdout",
     "output_type": "stream",
     "text": [
      "[{'head': 'skin diseases', 'tail': 'chronic wounds', 'type': 'associated', 'source': '95be1713dbb23e86525959e49ea5a196b49f3bbc1ce8c6cbfa373f176c9d39ae'}, {'head': 'hematopoietic stem cells', 'tail': 'leukemia', 'type': 'associated', 'source': '9785b08aa0fecd2e0a28784a7f550f08201c5fafed3e2fd72cb3e3c4c0faf19a'}, {'head': 'hematopoietic stem cells', 'tail': 'autoimmune diseases', 'type': 'associated', 'source': '9785b08aa0fecd2e0a28784a7f550f08201c5fafed3e2fd72cb3e3c4c0faf19a'}, {'head': 'leukemia', 'tail': 'autoimmune diseases', 'type': 'associated', 'source': '9785b08aa0fecd2e0a28784a7f550f08201c5fafed3e2fd72cb3e3c4c0faf19a'}, {'head': 'Mesenchymal stem cells', 'tail': 'targeted', 'type': 'interacts', 'source': '14158336512ad4f512d796f95bed14dab9902aa06c9b2d352216bb51fb7e5df8'}, {'head': 'collagenase enzymes', 'tail': 'fibroblasts', 'type': 'interacts', 'source': '50d0f4e2ae5e02d9618325ae8cc864b9208eaf9e34c3ac944ba073e058ea1633'}, {'head': 'engineered stem cell', 'tail': 'inflammatory cells', 'type': 'associated', 'source': '51c4910f2b4f40b8dd2a79181a734844cfc89d16e67ef6badf378470e73cf3de'}, {'head': 'engineered stem cell', 'tail': 'fibroblasts', 'type': 'associated', 'source': '51c4910f2b4f40b8dd2a79181a734844cfc89d16e67ef6badf378470e73cf3de'}, {'head': 'fibroblasts', 'tail': 'collagen', 'type': 'interacts', 'source': '23b6860ad70b95fc3013fbd75eb2165bba1a0ccab1bb166c9bc71e41be803871'}, {'head': 'ADSCs', 'tail': 'ADSCs', 'type': 'interacts', 'source': '41a24c5819d69ef35bf9650bc5c3892d2668b06249ca4e7d2c8afb762534c9bf'}, {'head': 'ADSCs', 'tail': 'DFs', 'type': 'interacts', 'source': '6ea83e4f6f61370bacd568f4937a18a6f22a09b0ac242dcda65e9f9ab5871b6b'}, {'head': 'EVs', 'tail': 'recipient cells', 'type': 'interacts', 'source': '37011fab65168b949e30d50e790c83509018c12f08db33276b8578040397b90b'}, {'head': 'wound', 'tail': 'Epidermolysis bullosa', 'type': 'interacts', 'source': '6bc42056308ecd2168a0bc29496b40e166832a09bb07efe85f9de69b330fe4ba'}, {'head': 'wound', 'tail': 'hereditary skin disease', 'type': 'associated', 'source': '6bc42056308ecd2168a0bc29496b40e166832a09bb07efe85f9de69b330fe4ba'}, {'head': 'mesenchymal', 'tail': 'cells', 'type': 'interacts', 'source': 'c809024aa7cf38135ee44ba4c6551890759bd1ce691778bb12ae99cb3bf9c809'}, {'head': 'collagen', 'tail': 'fibroblasts', 'type': 'interacts', 'source': '31a6ae4fd46177618fe67811fdf6d56060909bac378568cab98d6ec696f948dd'}, {'head': 'collagen', 'tail': 'fibroblasts', 'type': 'interacts', 'source': '31a6ae4fd46177618fe67811fdf6d56060909bac378568cab98d6ec696f948dd'}, {'head': 'fibroblasts', 'tail': 'collagenase enzymes', 'type': 'interacts', 'source': '31a6ae4fd46177618fe67811fdf6d56060909bac378568cab98d6ec696f948dd'}, {'head': 'fibroblasts', 'tail': 'collagen', 'type': 'interacts', 'source': '31a6ae4fd46177618fe67811fdf6d56060909bac378568cab98d6ec696f948dd'}, {'head': 'collagenase enzymes', 'tail': 'fibroblasts', 'type': 'interacts', 'source': '31a6ae4fd46177618fe67811fdf6d56060909bac378568cab98d6ec696f948dd'}, {'head': 'collagen', 'tail': 'fibroblasts', 'type': 'interacts', 'source': '31a6ae4fd46177618fe67811fdf6d56060909bac378568cab98d6ec696f948dd'}, {'head': 'engineered', 'tail': 'inflammatory cells', 'type': 'associated', 'source': '9164dc8d58cd90285401d302a03e671dd668150307ae27f85345bbd411713c2c'}, {'head': 'engineered', 'tail': 'fibroblasts', 'type': 'associated', 'source': '9164dc8d58cd90285401d302a03e671dd668150307ae27f85345bbd411713c2c'}, {'head': 'stem cell vascular fraction', 'tail': 'inflammatory cells', 'type': 'associated', 'source': '9164dc8d58cd90285401d302a03e671dd668150307ae27f85345bbd411713c2c'}, {'head': 'stem cell vascular fraction', 'tail': 'fibroblasts', 'type': 'associated', 'source': '9164dc8d58cd90285401d302a03e671dd668150307ae27f85345bbd411713c2c'}]\n"
     ]
    }
   ],
   "source": [
    "print(predicted_rels)"
   ]
  },
  {
   "cell_type": "code",
   "execution_count": 102,
   "id": "461758a9",
   "metadata": {},
   "outputs": [
    {
     "name": "stdout",
     "output_type": "stream",
     "text": [
      "[]\n"
     ]
    }
   ],
   "source": [
    "print(predicted_rels1)"
   ]
  },
  {
   "cell_type": "code",
   "execution_count": 181,
   "id": "cb6abcc0-6403-428c-ab6e-469963ad2b9c",
   "metadata": {},
   "outputs": [
    {
     "name": "stdout",
     "output_type": "stream",
     "text": [
      "done\n"
     ]
    }
   ],
   "source": [
    "# Store the extracted relationships in Neo4j\n",
    "neo4j_query(\"\"\"\n",
    "UNWIND $data as row\n",
    "MATCH (source:Entity {id: row.head})\n",
    "MATCH (target:Entity {id: row.tail})\n",
    "MATCH (text:Sentence {id: row.source})\n",
    "MERGE (source)-[:REL]->(r:Relation {type: row.type})-[:REL]->(target)\n",
    "MERGE (text)-[:MENTIONS]->(r)\n",
    "\"\"\", {'data': predicted_rels})\n",
    "print(\"done\")"
   ]
  },
  {
   "cell_type": "code",
   "execution_count": 182,
   "id": "b785ff0a",
   "metadata": {},
   "outputs": [
    {
     "name": "stdout",
     "output_type": "stream",
     "text": [
      "done\n"
     ]
    }
   ],
   "source": [
    "#------------------------------------text_2\n",
    "# Store the extracted relationships in Neo4j\n",
    "neo4j_query(\"\"\"\n",
    "UNWIND $data as row\n",
    "MATCH (source:Entity {id: row.head})\n",
    "MATCH (target:Entity {id: row.tail})\n",
    "MATCH (text:Sentence {id: row.source})\n",
    "MERGE (source)-[:REL]->(r:Relation {type: row.type})-[:REL]->(target)\n",
    "MERGE (text)-[:MENTIONS]->(r)\n",
    "\"\"\", {'data': predicted_rels1})\n",
    "print(\"done\")"
   ]
  },
  {
   "cell_type": "code",
   "execution_count": 183,
   "id": "3df5ca09",
   "metadata": {},
   "outputs": [
    {
     "name": "stdout",
     "output_type": "stream",
     "text": [
      "done\n"
     ]
    }
   ],
   "source": [
    "# Examine the extracted relationships\n",
    "neo4j_query(\"\"\"\n",
    "MATCH (s:Entity)-[:REL]->(r:Relation)-[:REL]->(t:Entity), (r)<-[:MENTIONS]-(st:Sentence)\n",
    "RETURN s.name as source_entity, t.name as target_entity, r.type as type, st.text as source_text\n",
    "\"\"\")\n",
    "print(\"done\")"
   ]
  },
  {
   "cell_type": "code",
   "execution_count": 184,
   "id": "0354fafa",
   "metadata": {},
   "outputs": [
    {
     "name": "stdout",
     "output_type": "stream",
     "text": [
      "done\n"
     ]
    }
   ],
   "source": [
    "#------------------------------------text_2\n",
    "# Examine the extracted relationships\n",
    "neo4j_query(\"\"\"\n",
    "MATCH (s:Entity)-[:REL]->(r:Relation)-[:REL]->(t:Entity), (r)<-[:MENTIONS]-(st:Sentence)\n",
    "RETURN s.name as source_entity, t.name as target_entity, r.type as type, st.text as source_text\n",
    "\"\"\")\n",
    "print(\"done\")"
   ]
  },
  {
   "cell_type": "markdown",
   "id": "f2210495",
   "metadata": {},
   "source": [
    "Extration des données depuis neo4j vers une base de données Flask"
   ]
  },
  {
   "cell_type": "code",
   "execution_count": 186,
   "id": "2d33d660",
   "metadata": {},
   "outputs": [
    {
     "name": "stdout",
     "output_type": "stream",
     "text": [
      "Collecting flask\n",
      "  Downloading Flask-2.2.5-py3-none-any.whl (101 kB)\n",
      "     ------------------------------------ 101.8/101.8 kB 649.5 kB/s eta 0:00:00\n",
      "Requirement already satisfied: Jinja2>=3.0 in c:\\users\\public\\appdata\\envs\\semesterproject\\lib\\site-packages (from flask) (3.1.2)\n",
      "Requirement already satisfied: click>=8.0 in c:\\users\\public\\appdata\\envs\\semesterproject\\lib\\site-packages (from flask) (8.0.3)\n",
      "Collecting itsdangerous>=2.0\n",
      "  Using cached itsdangerous-2.1.2-py3-none-any.whl (15 kB)\n",
      "Collecting Werkzeug>=2.2.2\n",
      "  Using cached Werkzeug-2.2.3-py3-none-any.whl (233 kB)\n",
      "Requirement already satisfied: importlib-metadata>=3.6.0 in c:\\users\\public\\appdata\\envs\\semesterproject\\lib\\site-packages (from flask) (6.7.0)\n",
      "Requirement already satisfied: colorama in c:\\users\\public\\appdata\\envs\\semesterproject\\lib\\site-packages (from click>=8.0->flask) (0.4.6)\n",
      "Requirement already satisfied: typing-extensions>=3.6.4 in c:\\users\\public\\appdata\\envs\\semesterproject\\lib\\site-packages (from importlib-metadata>=3.6.0->flask) (4.7.1)\n",
      "Requirement already satisfied: zipp>=0.5 in c:\\users\\public\\appdata\\envs\\semesterproject\\lib\\site-packages (from importlib-metadata>=3.6.0->flask) (3.15.0)\n",
      "Requirement already satisfied: MarkupSafe>=2.0 in c:\\users\\public\\appdata\\envs\\semesterproject\\lib\\site-packages (from Jinja2>=3.0->flask) (2.1.3)\n",
      "Installing collected packages: Werkzeug, itsdangerous, flask\n",
      "Successfully installed Werkzeug-2.2.3 flask-2.2.5 itsdangerous-2.1.2\n"
     ]
    }
   ],
   "source": [
    "!pip install flask\n"
   ]
  },
  {
   "cell_type": "code",
   "execution_count": 6,
   "id": "5b1b0115",
   "metadata": {},
   "outputs": [],
   "source": [
    "#importing flask module in the project is mandatory\n",
    "from flask import Flask, jsonify\n",
    "from neo4j import GraphDatabase"
   ]
  },
  {
   "cell_type": "code",
   "execution_count": 10,
   "id": "76b89071",
   "metadata": {},
   "outputs": [
    {
     "name": "stdout",
     "output_type": "stream",
     "text": [
      "Requirement already satisfied: requests in c:\\users\\fredy rodriguez\\appdata\\local\\programs\\python\\python311\\lib\\site-packages (2.31.0)\n",
      "Requirement already satisfied: charset-normalizer<4,>=2 in c:\\users\\fredy rodriguez\\appdata\\local\\programs\\python\\python311\\lib\\site-packages (from requests) (3.3.2)\n",
      "Requirement already satisfied: idna<4,>=2.5 in c:\\users\\fredy rodriguez\\appdata\\local\\programs\\python\\python311\\lib\\site-packages (from requests) (3.6)\n",
      "Requirement already satisfied: urllib3<3,>=1.21.1 in c:\\users\\fredy rodriguez\\appdata\\local\\programs\\python\\python311\\lib\\site-packages (from requests) (2.1.0)\n",
      "Requirement already satisfied: certifi>=2017.4.17 in c:\\users\\fredy rodriguez\\appdata\\local\\programs\\python\\python311\\lib\\site-packages (from requests) (2023.11.17)\n"
     ]
    },
    {
     "name": "stderr",
     "output_type": "stream",
     "text": [
      "\n",
      "[notice] A new release of pip is available: 23.3.1 -> 23.3.2\n",
      "[notice] To update, run: C:\\Users\\Fredy Rodriguez\\AppData\\Local\\Programs\\Python\\Python311\\python.exe -m pip install --upgrade pip\n"
     ]
    }
   ],
   "source": [
    "# installing the required libraries\n",
    "!pip install requests"
   ]
  },
  {
   "cell_type": "code",
   "execution_count": 11,
   "id": "f3e6f0fd",
   "metadata": {},
   "outputs": [
    {
     "name": "stdout",
     "output_type": "stream",
     "text": [
      "Requirement already satisfied: pip in c:\\users\\fredy rodriguez\\appdata\\local\\programs\\python\\python311\\lib\\site-packages (23.3.1)\n",
      "Collecting pip\n",
      "  Using cached pip-23.3.2-py3-none-any.whl.metadata (3.5 kB)\n",
      "Using cached pip-23.3.2-py3-none-any.whl (2.1 MB)\n"
     ]
    },
    {
     "name": "stderr",
     "output_type": "stream",
     "text": [
      "ERROR: To modify pip, please run the following command:\n",
      "C:\\Users\\Fredy Rodriguez\\AppData\\Local\\Programs\\Python\\Python311\\python.exe -m pip install --upgrade pip\n",
      "\n",
      "[notice] A new release of pip is available: 23.3.1 -> 23.3.2\n",
      "[notice] To update, run: C:\\Users\\Fredy Rodriguez\\AppData\\Local\\Programs\\Python\\Python311\\python.exe -m pip install --upgrade pip\n"
     ]
    }
   ],
   "source": [
    "!pip install --upgrade pip"
   ]
  },
  {
   "cell_type": "code",
   "execution_count": 14,
   "id": "0986224f",
   "metadata": {},
   "outputs": [
    {
     "name": "stdout",
     "output_type": "stream",
     "text": [
      " * Serving Flask app '__main__'\n",
      " * Debug mode: on\n"
     ]
    },
    {
     "name": "stderr",
     "output_type": "stream",
     "text": [
      "WARNING: This is a development server. Do not use it in a production deployment. Use a production WSGI server instead.\n",
      " * Running on http://127.0.0.1:5000\n",
      "Press CTRL+C to quit\n",
      "127.0.0.1 - - [12/Jan/2024 13:30:03] \"GET /auteurs HTTP/1.1\" 200 -\n",
      "127.0.0.1 - - [12/Jan/2024 13:30:03] \"GET /style.js HTTP/1.1Failed to write data to connection IPv4Address(('3.82.231.5', 7687)) (ResolvedIPv4Address(('3.82.231.5', 7687)))\n",
      "\" 404 -\n",
      "127.0.0.1 - - [12/Jan/2024 13:30:04] \"GET /api/authors HTTP/1.1\" 200 -\n",
      "127.0.0.1 - - [12/Jan/2024 13:30:26] \"GET /api/authors HTTP/1.1\" 200 -\n",
      "127.0.0.1 - - [12/Jan/2024 13:30:34] \"GET /api/authors HTTP/1.1\" 200 -\n",
      "Failed to write data to connection IPv4Address(('3.82.231.5', 7687)) (ResolvedIPv4Address(('3.82.231.5', 7687)))\n",
      "Failed to write data to connection IPv4Address(('3.82.231.5', 7687)) (ResolvedIPv4Address(('3.82.231.5', 7687)))\n",
      "Failed to write data to connection IPv4Address(('3.82.231.5', 7687)) (ResolvedIPv4Address(('3.82.231.5', 7687)))\n",
      "127.0.0.1 - - [12/Jan/2024 13:32:12] \"GET /api/authors HTTP/1.1\" 200 -\n",
      "127.0.0.1 - - [12/Jan/2024 13:32:36] \"GET /api/authors HTTP/1.1\" 200 -\n"
     ]
    }
   ],
   "source": [
    "# importing the requests library\n",
    "from flask import Flask, jsonify, render_template\n",
    "\n",
    "# creating a Flask app\n",
    "app = Flask(__name__)\n",
    "\n",
    "# Your neo4j_query function\n",
    "def get_neo4j_session():\n",
    "    uri = 'bolt://3.82.231.5:7687'\n",
    "    user = 'neo4j'\n",
    "    password = 'silk-merchant-quiets'\n",
    "\n",
    "    driver = GraphDatabase.driver(uri, auth=(user, password))\n",
    "    return driver.session()\n",
    "\n",
    "# Endpoint to get all articles and their authors\n",
    "@app.route('/api/authors', methods=['GET'])\n",
    "def get_authors():\n",
    "    authors = []\n",
    "    with get_neo4j_session() as session:\n",
    "        result = session.run(\"\"\"\n",
    "            MATCH (a:Author)-[:WROTE]->(b:Article)\n",
    "            RETURN b.title AS article, b.urlToArticle AS urlToArticle, COLLECT(a.name) AS authors\n",
    "        \"\"\")\n",
    "        authors = [{'article': record['article'], 'urlToArticle': record['urlToArticle'], 'authors': record['authors']} for record in result]\n",
    "    return jsonify(authors)\n",
    "\n",
    "\n",
    "# Endpoint to get all articles and their authors from HTML\n",
    "@app.route('/auteurs')\n",
    "def index():\n",
    "    return render_template('authors.html')\n",
    "\n",
    "if __name__ == '__main__':\n",
    "    app.run(debug=True, use_reloader=False)\n"
   ]
  }
 ],
 "metadata": {
  "kernelspec": {
   "display_name": "Python 3 (ipykernel)",
   "language": "python",
   "name": "python3"
  },
  "language_info": {
   "codemirror_mode": {
    "name": "ipython",
    "version": 3
   },
   "file_extension": ".py",
   "mimetype": "text/x-python",
   "name": "python",
   "nbconvert_exporter": "python",
   "pygments_lexer": "ipython3",
   "version": "3.7.12"
  }
 },
 "nbformat": 4,
 "nbformat_minor": 5
}
